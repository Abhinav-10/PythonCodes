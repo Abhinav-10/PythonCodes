{
 "cells": [
  {
   "cell_type": "markdown",
   "metadata": {},
   "source": [
    "# Numpy zero to hero series"
   ]
  },
  {
   "cell_type": "code",
   "execution_count": 1,
   "metadata": {
    "collapsed": true
   },
   "outputs": [],
   "source": [
    "# importing library\n",
    "import numpy as np"
   ]
  },
  {
   "cell_type": "code",
   "execution_count": 2,
   "metadata": {},
   "outputs": [
    {
     "data": {
      "text/plain": [
       "array([ 0,  1,  2,  3,  4,  5,  6,  7,  8,  9, 10, 11, 12, 13, 14, 15, 16,\n",
       "       17, 18, 19, 20, 21, 22, 23, 24, 25, 26, 27, 28, 29, 30, 31, 32, 33,\n",
       "       34, 35, 36, 37, 38, 39, 40, 41, 42, 43, 44, 45, 46, 47, 48, 49, 50,\n",
       "       51, 52, 53, 54, 55, 56, 57, 58, 59, 60, 61, 62, 63, 64, 65, 66, 67,\n",
       "       68, 69, 70, 71, 72, 73, 74, 75, 76, 77, 78, 79, 80, 81, 82, 83, 84,\n",
       "       85, 86, 87, 88, 89, 90, 91, 92, 93, 94, 95, 96, 97, 98, 99])"
      ]
     },
     "execution_count": 2,
     "metadata": {},
     "output_type": "execute_result"
    }
   ],
   "source": [
    "#generating array upto any sequence from zero (consecutive number)\n",
    "np.arange(100)"
   ]
  },
  {
   "cell_type": "code",
   "execution_count": 3,
   "metadata": {},
   "outputs": [
    {
     "data": {
      "text/plain": [
       "array([10, 11, 12, 13, 14, 15, 16, 17, 18, 19])"
      ]
     },
     "execution_count": 3,
     "metadata": {},
     "output_type": "execute_result"
    }
   ],
   "source": [
    "#generating array in any range(consecutive number)\n",
    "np.arange(10,20)"
   ]
  },
  {
   "cell_type": "code",
   "execution_count": 4,
   "metadata": {},
   "outputs": [
    {
     "data": {
      "text/plain": [
       "array([10, 14, 18])"
      ]
     },
     "execution_count": 4,
     "metadata": {},
     "output_type": "execute_result"
    }
   ],
   "source": [
    "# generating nu,ber with gap of 4\n",
    "np.arange(10,20,4)"
   ]
  },
  {
   "cell_type": "code",
   "execution_count": 5,
   "metadata": {},
   "outputs": [
    {
     "data": {
      "text/plain": [
       "array([[ 0.20351152,  0.04068008,  0.43329307,  0.05026897,  0.3962553 ],\n",
       "       [ 0.30673963,  0.81020668,  0.05480509,  0.47136827,  0.22139388],\n",
       "       [ 0.66085778,  0.39912077,  0.59434802,  0.43416814,  0.60174287],\n",
       "       [ 0.86165148,  0.55803608,  0.68271046,  0.79763289,  0.70084973]])"
      ]
     },
     "execution_count": 5,
     "metadata": {},
     "output_type": "execute_result"
    }
   ],
   "source": [
    "# genarating random array data \n",
    "data = np.random.rand(4,5)\n",
    "data"
   ]
  },
  {
   "cell_type": "code",
   "execution_count": 6,
   "metadata": {},
   "outputs": [
    {
     "data": {
      "text/plain": [
       "array([[ 203.51152462,   40.68007528,  433.29307171,   50.26896511,\n",
       "         396.25530018],\n",
       "       [ 306.73963449,  810.20668233,   54.80508893,  471.36827481,\n",
       "         221.39387644],\n",
       "       [ 660.85778234,  399.12076749,  594.3480224 ,  434.16814129,\n",
       "         601.74287254],\n",
       "       [ 861.65148138,  558.03608016,  682.71045994,  797.63289023,\n",
       "         700.84972702]])"
      ]
     },
     "execution_count": 6,
     "metadata": {},
     "output_type": "execute_result"
    }
   ],
   "source": [
    "data*1000"
   ]
  },
  {
   "cell_type": "code",
   "execution_count": 7,
   "metadata": {},
   "outputs": [
    {
     "data": {
      "text/plain": [
       "array([[ 100.20351152,  100.04068008,  100.43329307,  100.05026897,\n",
       "         100.3962553 ],\n",
       "       [ 100.30673963,  100.81020668,  100.05480509,  100.47136827,\n",
       "         100.22139388],\n",
       "       [ 100.66085778,  100.39912077,  100.59434802,  100.43416814,\n",
       "         100.60174287],\n",
       "       [ 100.86165148,  100.55803608,  100.68271046,  100.79763289,\n",
       "         100.70084973]])"
      ]
     },
     "execution_count": 7,
     "metadata": {},
     "output_type": "execute_result"
    }
   ],
   "source": [
    "data+100"
   ]
  },
  {
   "cell_type": "code",
   "execution_count": 8,
   "metadata": {},
   "outputs": [
    {
     "name": "stdout",
     "output_type": "stream",
     "text": [
      "Shape:: (4, 5)\n",
      "Dtype:: float64\n"
     ]
    }
   ],
   "source": [
    "print('Shape::',data.shape)\n",
    "print('Dtype::',data.dtype)"
   ]
  },
  {
   "cell_type": "code",
   "execution_count": 9,
   "metadata": {},
   "outputs": [],
   "source": [
    "# creating array from a list \n",
    "a = [46, 7, 8, 9]\n",
    "b = [[4, 5, 6], [8, 93, 4]]\n",
    "c = [[8, 9, 10, 22], [9, 10, 98, 67], [83, 38, 32, 43]]\n",
    "arr1 = np.array(a)\n",
    "arr2 = np.array(b)\n",
    "arr3 = np.array(c)"
   ]
  },
  {
   "cell_type": "code",
   "execution_count": 10,
   "metadata": {},
   "outputs": [
    {
     "name": "stdout",
     "output_type": "stream",
     "text": [
      "Array1 Dimension 1 Shape (4,)\n",
      "Array2 Dimesnion 2 Shape (2, 3)\n",
      "Array3 Dimension 2 Shape (3, 4)\n"
     ]
    }
   ],
   "source": [
    "#checking dime%nson of array\n",
    "print('Array1 Dimension {} Shape {}'.format(arr1.ndim, arr1.shape))\n",
    "print('Array2 Dimesnion {} Shape {}'.format(arr2.ndim, arr2.shape))\n",
    "print('Array3 Dimension {} Shape {}'.format(arr3.ndim, arr3.shape))"
   ]
  },
  {
   "cell_type": "code",
   "execution_count": 11,
   "metadata": {},
   "outputs": [
    {
     "data": {
      "text/plain": [
       "array([ 0.,  0.,  0.,  0.,  0.])"
      ]
     },
     "execution_count": 11,
     "metadata": {},
     "output_type": "execute_result"
    }
   ],
   "source": [
    "# Creating 1D zeros array\n",
    "np.zeros(5)"
   ]
  },
  {
   "cell_type": "code",
   "execution_count": 12,
   "metadata": {},
   "outputs": [
    {
     "data": {
      "text/plain": [
       "array([[ 0.,  0.,  0.,  0.,  0.],\n",
       "       [ 0.,  0.,  0.,  0.,  0.],\n",
       "       [ 0.,  0.,  0.,  0.,  0.],\n",
       "       [ 0.,  0.,  0.,  0.,  0.],\n",
       "       [ 0.,  0.,  0.,  0.,  0.]])"
      ]
     },
     "execution_count": 12,
     "metadata": {},
     "output_type": "execute_result"
    }
   ],
   "source": [
    "# Creating 2D zeros array\n",
    "np.zeros((5, 5 ))"
   ]
  },
  {
   "cell_type": "code",
   "execution_count": 13,
   "metadata": {},
   "outputs": [
    {
     "name": "stdout",
     "output_type": "stream",
     "text": [
      "Array1:: [ 1.  2.  3.]\n",
      "Array2:: [1 2 3]\n"
     ]
    }
   ],
   "source": [
    "arr1 = np.array([1, 2, 3], dtype=np.float64)\n",
    "arr2 = np.array([1, 2, 3], dtype=np.int32)\n",
    "print('Array1::', arr1)\n",
    "print('Array2::', arr2)"
   ]
  },
  {
   "cell_type": "code",
   "execution_count": 14,
   "metadata": {},
   "outputs": [
    {
     "name": "stdout",
     "output_type": "stream",
     "text": [
      "[ 1.  2.  3.]\n"
     ]
    }
   ],
   "source": [
    "# Converting dtypw\n",
    "float_arr = arr2.astype(np.float64)\n",
    "print(float_arr)"
   ]
  },
  {
   "cell_type": "code",
   "execution_count": 15,
   "metadata": {
    "collapsed": true
   },
   "outputs": [],
   "source": [
    "arr1 = np.array([[1., 2., 3.], [4., 5., 6.]])"
   ]
  },
  {
   "cell_type": "code",
   "execution_count": 16,
   "metadata": {},
   "outputs": [
    {
     "name": "stdout",
     "output_type": "stream",
     "text": [
      "Addition::\n",
      " [[  2.   4.   6.]\n",
      " [  8.  10.  12.]]\n",
      "Subtraction::\n",
      " [[ 0.  0.  0.]\n",
      " [ 0.  0.  0.]]\n",
      "Multiplication::\n",
      " [[  1.   4.   9.]\n",
      " [ 16.  25.  36.]]\n",
      "Array Exponent::\n",
      " [[ 1.          1.41421356  1.73205081]\n",
      " [ 2.          2.23606798  2.44948974]]\n"
     ]
    }
   ],
   "source": [
    "print('Addition::\\n', arr1 + arr1)\n",
    "print('Subtraction::\\n', arr1 - arr1)\n",
    "print('Multiplication::\\n', arr1 * arr1)\n",
    "print('Array Exponent::\\n', arr1 ** 0.5)"
   ]
  },
  {
   "cell_type": "code",
   "execution_count": 17,
   "metadata": {},
   "outputs": [],
   "source": [
    "arr2 = np.array([[0., 4., 1.], [7., 2., 12.]])"
   ]
  },
  {
   "cell_type": "code",
   "execution_count": 18,
   "metadata": {},
   "outputs": [
    {
     "data": {
      "text/plain": [
       "array([[False,  True, False],\n",
       "       [ True, False,  True]], dtype=bool)"
      ]
     },
     "execution_count": 18,
     "metadata": {},
     "output_type": "execute_result"
    }
   ],
   "source": [
    "arr2>arr1"
   ]
  },
  {
   "cell_type": "code",
   "execution_count": 19,
   "metadata": {},
   "outputs": [
    {
     "data": {
      "text/plain": [
       "5"
      ]
     },
     "execution_count": 19,
     "metadata": {},
     "output_type": "execute_result"
    }
   ],
   "source": [
    "# Slicing in Array \n",
    "arr = np.arange(10)\n",
    "arr[5]"
   ]
  },
  {
   "cell_type": "code",
   "execution_count": 20,
   "metadata": {},
   "outputs": [
    {
     "data": {
      "text/plain": [
       "array([5, 6, 7])"
      ]
     },
     "execution_count": 20,
     "metadata": {},
     "output_type": "execute_result"
    }
   ],
   "source": [
    "arr[5:8]"
   ]
  },
  {
   "cell_type": "code",
   "execution_count": 21,
   "metadata": {},
   "outputs": [
    {
     "name": "stdout",
     "output_type": "stream",
     "text": [
      "[ 0  1  2  3  4 12 12 12  8  9]\n"
     ]
    }
   ],
   "source": [
    "arr[5:8] = 12\n",
    "print(arr)"
   ]
  },
  {
   "cell_type": "code",
   "execution_count": 22,
   "metadata": {},
   "outputs": [
    {
     "name": "stdout",
     "output_type": "stream",
     "text": [
      "[12 12 12]\n"
     ]
    }
   ],
   "source": [
    "arr_slice = arr[5:8]\n",
    "print(arr_slice)"
   ]
  },
  {
   "cell_type": "code",
   "execution_count": 23,
   "metadata": {},
   "outputs": [
    {
     "name": "stdout",
     "output_type": "stream",
     "text": [
      "[   12 12345    12]\n"
     ]
    }
   ],
   "source": [
    "arr_slice[1] = 12345\n",
    "print(arr_slice)"
   ]
  },
  {
   "cell_type": "code",
   "execution_count": 24,
   "metadata": {},
   "outputs": [
    {
     "data": {
      "text/plain": [
       "array([64, 64, 64])"
      ]
     },
     "execution_count": 24,
     "metadata": {},
     "output_type": "execute_result"
    }
   ],
   "source": [
    "# broad casting\n",
    "arr_slice[:] = 64\n",
    "arr_slice"
   ]
  },
  {
   "cell_type": "code",
   "execution_count": 25,
   "metadata": {
    "collapsed": true
   },
   "outputs": [],
   "source": [
    "# 2D array \n",
    "arr2d = np.array([[1, 2, 3], [4, 5, 6], [7, 8, 9]])"
   ]
  },
  {
   "cell_type": "code",
   "execution_count": 26,
   "metadata": {},
   "outputs": [
    {
     "name": "stdout",
     "output_type": "stream",
     "text": [
      "Array::\n",
      " [[1 2 3]\n",
      " [4 5 6]\n",
      " [7 8 9]]\n",
      "\n",
      "3rd Row:: [7 8 9]\n",
      "\n",
      "3rd element of 1st row:: 3\n"
     ]
    }
   ],
   "source": [
    "print('Array::\\n', arr2d)\n",
    "print('\\n3rd Row::', arr2d[2])\n",
    "print('\\n3rd element of 1st row::', arr2d[0,2])"
   ]
  },
  {
   "cell_type": "code",
   "execution_count": 27,
   "metadata": {},
   "outputs": [
    {
     "name": "stdout",
     "output_type": "stream",
     "text": [
      "[[[ 1  2  3]\n",
      "  [ 4  5  6]]\n",
      "\n",
      " [[ 7  8  9]\n",
      "  [10 11 12]]]\n"
     ]
    }
   ],
   "source": [
    "# 3D Array\n",
    "arr3d = np.array([[[1, 2, 3], [4, 5, 6]], [[7, 8, 9], [10, 11, 12]]])\n",
    "print(arr3d)"
   ]
  },
  {
   "cell_type": "code",
   "execution_count": 28,
   "metadata": {},
   "outputs": [
    {
     "name": "stdout",
     "output_type": "stream",
     "text": [
      "Broadcasted Array\n",
      "[42 42 42]\n"
     ]
    }
   ],
   "source": [
    "# generating copies\n",
    "old_values = arr3d[0].copy()\n",
    "\n",
    "# broadcasting value\n",
    "arr3d[0] = 42\n",
    "\n",
    "print(\"Broadcasted Array\", )\n",
    "print(arr3d[0, 0])"
   ]
  },
  {
   "cell_type": "code",
   "execution_count": 33,
   "metadata": {},
   "outputs": [
    {
     "name": "stdout",
     "output_type": "stream",
     "text": [
      "Sliced array:: [4 5 6 9 8]\n"
     ]
    }
   ],
   "source": [
    "# slicing a 1D array  \n",
    "arr = np.array([4, 5, 6, 9, 8, 6, 3, 1, 10])\n",
    "print('Sliced array::', arr[:5])"
   ]
  },
  {
   "cell_type": "code",
   "execution_count": 43,
   "metadata": {},
   "outputs": [
    {
     "name": "stdout",
     "output_type": "stream",
     "text": [
      "Array::\n",
      " [[1 2 3]\n",
      " [4 5 6]\n",
      " [7 8 9]]\n",
      "Array slicing\n",
      " [[1 2 3]\n",
      " [4 5 6]]\n",
      "Array by using Multiple slicing::\n",
      " [[2 3]\n",
      " [5 6]]\n",
      "Array by using Multiple slicing::\n",
      " [5 6]\n"
     ]
    }
   ],
   "source": [
    "# slicing  in 2D array \n",
    "print(\"Array::\\n\", arr2d)\n",
    "print('Array slicing\\n', arr2d[:2])\n",
    "print('Array by using Multiple slicing::\\n',arr2d[:2, 1:])\n",
    "print('Array by using Multiple slicing::\\n',arr2d[1, 1:3])"
   ]
  },
  {
   "cell_type": "code",
   "execution_count": 64,
   "metadata": {},
   "outputs": [
    {
     "data": {
      "text/plain": [
       "array([[ 0.6406348 , -1.50691453,  0.89314458,  1.08691385],\n",
       "       [-0.18260442, -1.52839581,  0.43515829, -1.9343553 ],\n",
       "       [ 0.39044951,  1.34674993, -1.49286407,  0.21840634],\n",
       "       [-1.36249543, -0.14067545, -0.5257946 ,  0.7751083 ],\n",
       "       [-1.14509194, -0.28906319, -0.17024302,  0.68863477],\n",
       "       [-1.00399217, -1.18205525,  0.63968252, -0.38335027],\n",
       "       [ 0.12456124, -0.57767043,  2.28069381,  3.12354446]])"
      ]
     },
     "execution_count": 64,
     "metadata": {},
     "output_type": "execute_result"
    }
   ],
   "source": [
    "# Boolean Indexing\n",
    "names = np.array(['python', 'ss', 'technology', 'ml', 'ai', 'ds', 'ab'])\n",
    "data = np.random.randn(7, 4)\n",
    "data"
   ]
  },
  {
   "cell_type": "code",
   "execution_count": 52,
   "metadata": {},
   "outputs": [
    {
     "name": "stdout",
     "output_type": "stream",
     "text": [
      "Boolean response::\n",
      " [ True False False False False False False]\n",
      "Boolean values applying to data::\n",
      " [[-0.93358418  0.0823013  -1.8758688   0.37487863]]\n"
     ]
    }
   ],
   "source": [
    "print(\"Boolean response::\\n\", names == 'python')\n",
    "print(\"Boolean values applying to data::\\n\", data[names == 'python'])"
   ]
  },
  {
   "cell_type": "code",
   "execution_count": 54,
   "metadata": {},
   "outputs": [
    {
     "data": {
      "text/plain": [
       "array([[-0.93358418,  0.0823013 , -1.8758688 ,  0.37487863]])"
      ]
     },
     "execution_count": 54,
     "metadata": {},
     "output_type": "execute_result"
    }
   ],
   "source": [
    "data[names == 'python']"
   ]
  },
  {
   "cell_type": "code",
   "execution_count": 56,
   "metadata": {},
   "outputs": [
    {
     "data": {
      "text/plain": [
       "array([[-1.8758688 ,  0.37487863]])"
      ]
     },
     "execution_count": 56,
     "metadata": {},
     "output_type": "execute_result"
    }
   ],
   "source": [
    "data[names == 'python', 2:]"
   ]
  },
  {
   "cell_type": "code",
   "execution_count": 60,
   "metadata": {},
   "outputs": [
    {
     "data": {
      "text/plain": [
       "array([[-0.93358418,  0.0823013 , -1.8758688 ,  0.37487863]])"
      ]
     },
     "execution_count": 60,
     "metadata": {},
     "output_type": "execute_result"
    }
   ],
   "source": [
    "data[~(names != 'python')]"
   ]
  },
  {
   "cell_type": "code",
   "execution_count": 66,
   "metadata": {},
   "outputs": [
    {
     "data": {
      "text/plain": [
       "array([[ 0.6406348 , -1.50691453,  0.89314458,  1.08691385],\n",
       "       [-0.18260442, -1.52839581,  0.43515829, -1.9343553 ]])"
      ]
     },
     "execution_count": 66,
     "metadata": {},
     "output_type": "execute_result"
    }
   ],
   "source": [
    "mask = (names == 'python') | (names == 'ss')\n",
    "data[mask]"
   ]
  },
  {
   "cell_type": "code",
   "execution_count": 67,
   "metadata": {},
   "outputs": [
    {
     "name": "stdout",
     "output_type": "stream",
     "text": [
      "Data:: [[ 0.6406348   0.          0.89314458  1.08691385]\n",
      " [ 0.          0.          0.43515829  0.        ]\n",
      " [ 0.39044951  1.34674993  0.          0.21840634]\n",
      " [ 0.          0.          0.          0.7751083 ]\n",
      " [ 0.          0.          0.          0.68863477]\n",
      " [ 0.          0.          0.63968252  0.        ]\n",
      " [ 0.12456124  0.          2.28069381  3.12354446]]\n"
     ]
    }
   ],
   "source": [
    "data[data < 0] = 0\n",
    "print(\"Data::\", data)"
   ]
  },
  {
   "cell_type": "code",
   "execution_count": 69,
   "metadata": {},
   "outputs": [
    {
     "name": "stdout",
     "output_type": "stream",
     "text": [
      "[[ 0.  0.  0.  0.]\n",
      " [ 1.  1.  1.  1.]\n",
      " [ 2.  2.  2.  2.]\n",
      " [ 3.  3.  3.  3.]\n",
      " [ 4.  4.  4.  4.]\n",
      " [ 5.  5.  5.  5.]\n",
      " [ 6.  6.  6.  6.]\n",
      " [ 7.  7.  7.  7.]]\n"
     ]
    }
   ],
   "source": [
    "arr = np.empty((8, 4))\n",
    "for i in range(8):\n",
    "    arr[i] = i\n",
    "print(arr)"
   ]
  },
  {
   "cell_type": "code",
   "execution_count": 70,
   "metadata": {},
   "outputs": [
    {
     "name": "stdout",
     "output_type": "stream",
     "text": [
      "[[ 0  1  2  3]\n",
      " [ 4  5  6  7]\n",
      " [ 8  9 10 11]\n",
      " [12 13 14 15]\n",
      " [16 17 18 19]\n",
      " [20 21 22 23]\n",
      " [24 25 26 27]\n",
      " [28 29 30 31]]\n"
     ]
    }
   ],
   "source": [
    "arr = np.arange(32).reshape((8, 4))\n",
    "print(arr)"
   ]
  },
  {
   "cell_type": "code",
   "execution_count": 71,
   "metadata": {},
   "outputs": [
    {
     "data": {
      "text/plain": [
       "array([ 4, 23, 29, 10])"
      ]
     },
     "execution_count": 71,
     "metadata": {},
     "output_type": "execute_result"
    }
   ],
   "source": [
    "arr[[1, 5, 7, 2], [0, 3, 1, 2]]"
   ]
  },
  {
   "cell_type": "code",
   "execution_count": null,
   "metadata": {
    "collapsed": true
   },
   "outputs": [],
   "source": []
  }
 ],
 "metadata": {
  "kernelspec": {
   "display_name": "Python 3",
   "language": "python",
   "name": "python3"
  },
  "language_info": {
   "codemirror_mode": {
    "name": "ipython",
    "version": 3
   },
   "file_extension": ".py",
   "mimetype": "text/x-python",
   "name": "python",
   "nbconvert_exporter": "python",
   "pygments_lexer": "ipython3",
   "version": "3.6.3"
  }
 },
 "nbformat": 4,
 "nbformat_minor": 2
}
