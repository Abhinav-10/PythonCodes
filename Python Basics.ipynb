{
 "cells": [
  {
   "cell_type": "markdown",
   "metadata": {},
   "source": [
    "# Python Basics Introduction"
   ]
  },
  {
   "cell_type": "code",
   "execution_count": 1,
   "metadata": {},
   "outputs": [
    {
     "name": "stdout",
     "output_type": "stream",
     "text": [
      "hello!!\n"
     ]
    }
   ],
   "source": [
    "print(\"hello!!\")"
   ]
  },
  {
   "cell_type": "code",
   "execution_count": 2,
   "metadata": {},
   "outputs": [
    {
     "data": {
      "text/plain": [
       "[100, 2, 3, 4, 5, 6.666]"
      ]
     },
     "execution_count": 2,
     "metadata": {},
     "output_type": "execute_result"
    }
   ],
   "source": [
    "# list , tuples , strings, dictionary \n",
    "\n",
    "\"\"\"\n",
    "Array is a collection of homegneous elements\n",
    "list ===>>> []\n",
    "tuples ===>> ()\n",
    "dictionary ===> {}\n",
    "\"\"\"\n",
    "l1=[1,2,3,4,5,6.666]\n",
    "l1[0]=100\n",
    "l1"
   ]
  },
  {
   "cell_type": "code",
   "execution_count": 3,
   "metadata": {},
   "outputs": [
    {
     "data": {
      "text/plain": [
       "[1, 3.6, 'c', 'python']"
      ]
     },
     "execution_count": 3,
     "metadata": {},
     "output_type": "execute_result"
    }
   ],
   "source": [
    "# list\n",
    "l1=[1, 3.6, 'c', 'python']\n",
    "\n",
    "\n",
    "# slicing \n",
    "l1[1:3]\n",
    "l1[0:3]\n",
    "l1[:]"
   ]
  },
  {
   "cell_type": "code",
   "execution_count": 10,
   "metadata": {},
   "outputs": [
    {
     "name": "stdout",
     "output_type": "stream",
     "text": [
      "Before changes <class 'tuple'>\n",
      "After conversion <class 'list'>\n",
      "after adding <class 'tuple'>\n"
     ]
    }
   ],
   "source": [
    "# tuples\n",
    "\n",
    "t1=(1, 3.6, 'c', 'python')\n",
    "# t1[0]=10\n",
    "t1=()\n",
    "print(\"Before changes\", type(t1))\n",
    "t1=list(t1)\n",
    "t1.extend(l1)\n",
    "print(\"After conversion\", type(t1))\n",
    "t1=tuple(t1)\n",
    "print(\"after adding\",  type(t1))"
   ]
  },
  {
   "cell_type": "code",
   "execution_count": null,
   "metadata": {
    "collapsed": true
   },
   "outputs": [],
   "source": []
  }
 ],
 "metadata": {
  "kernelspec": {
   "display_name": "Python 3",
   "language": "python",
   "name": "python3"
  },
  "language_info": {
   "codemirror_mode": {
    "name": "ipython",
    "version": 3
   },
   "file_extension": ".py",
   "mimetype": "text/x-python",
   "name": "python",
   "nbconvert_exporter": "python",
   "pygments_lexer": "ipython3",
   "version": "3.6.3"
  }
 },
 "nbformat": 4,
 "nbformat_minor": 4
}
