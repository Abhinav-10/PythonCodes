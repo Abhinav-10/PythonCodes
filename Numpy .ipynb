{
 "cells": [
  {
   "cell_type": "markdown",
   "metadata": {},
   "source": [
    "# Numpy useful Data "
   ]
  },
  {
   "cell_type": "code",
   "execution_count": 3,
   "metadata": {},
   "outputs": [
    {
     "name": "stdout",
     "output_type": "stream",
     "text": [
      "1.18.1\n"
     ]
    }
   ],
   "source": [
    "#  Import numpy as np and print the version number.\n",
    "import numpy as np\n",
    "print(np.__version__)"
   ]
  },
  {
   "cell_type": "code",
   "execution_count": 4,
   "metadata": {},
   "outputs": [
    {
     "data": {
      "text/plain": [
       "array([0, 1, 2, 3, 4, 5, 6, 7, 8, 9])"
      ]
     },
     "execution_count": 4,
     "metadata": {},
     "output_type": "execute_result"
    }
   ],
   "source": [
    "# Create a 1D array of numbers from 0 to 9\n",
    "\n",
    "# Desired Output\n",
    "# > array([0, 1, 2, 3, 4, 5, 6, 7, 8, 9])\n",
    "\n",
    "arr = np.arange(10)\n",
    "arr"
   ]
  },
  {
   "cell_type": "code",
   "execution_count": 5,
   "metadata": {},
   "outputs": [
    {
     "data": {
      "text/plain": [
       "array([[ True,  True,  True],\n",
       "       [ True,  True,  True],\n",
       "       [ True,  True,  True]])"
      ]
     },
     "execution_count": 5,
     "metadata": {},
     "output_type": "execute_result"
    }
   ],
   "source": [
    "# Create a 3×3 numpy array of all True’s\n",
    "\n",
    "arr = np.repeat(True, 9).reshape(3, -1)\n",
    "arr\n"
   ]
  },
  {
   "cell_type": "code",
   "execution_count": 7,
   "metadata": {},
   "outputs": [
    {
     "name": "stdout",
     "output_type": "stream",
     "text": [
      "Input\n",
      "[0 1 2 3 4 5 6 7 8 9]\n",
      "Output\n",
      "[1 3 5 7 9]\n"
     ]
    }
   ],
   "source": [
    "#  Extract all odd numbers from arr\n",
    "# Input \n",
    "arr = np.array([0, 1, 2, 3, 4, 5, 6, 7, 8, 9])\n",
    "print(\"Input\")\n",
    "print(arr)\n",
    "\n",
    "# Desired Output\n",
    "# > array([1, 3, 5, 7, 9])\n",
    "\n",
    "# Solution\n",
    "print(\"Output\")\n",
    "odds = arr[arr%2 != 0]\n",
    "print(odds)"
   ]
  },
  {
   "cell_type": "code",
   "execution_count": 8,
   "metadata": {},
   "outputs": [
    {
     "name": "stdout",
     "output_type": "stream",
     "text": [
      "Input\n",
      "[0 1 2 3 4 5 6 7 8 9]\n",
      "Output\n",
      "[ 0 -1  2 -1  4 -1  6 -1  8 -1]\n"
     ]
    }
   ],
   "source": [
    "# Replace all odd numbers in arr with -1\n",
    "# Input \n",
    "arr = np.array([0, 1, 2, 3, 4, 5, 6, 7, 8, 9])\n",
    "print(\"Input\")\n",
    "print(arr)\n",
    "\n",
    "# Desired Output\n",
    "# >  array([ 0, -1,  2, -1,  4, -1,  6, -1,  8, -1])\n",
    "\n",
    "# Output\n",
    "print(\"Output\")\n",
    "arr[arr%2 != 0] = -1\n",
    "print(arr)"
   ]
  },
  {
   "cell_type": "code",
   "execution_count": 9,
   "metadata": {},
   "outputs": [
    {
     "name": "stdout",
     "output_type": "stream",
     "text": [
      "Input\n",
      "[0 1 2 3 4 5 6 7 8 9]\n",
      "Output\n",
      "Modified array\n",
      "[ 0 -1  2 -1  4 -1  6 -1  8 -1]\n",
      "Original array\n",
      "[0 1 2 3 4 5 6 7 8 9]\n"
     ]
    }
   ],
   "source": [
    "# Replace all odd numbers in arr with -1 without changing arr\n",
    "# Input \n",
    "arr = np.array([0, 1, 2, 3, 4, 5, 6, 7, 8, 9])\n",
    "print(\"Input\")\n",
    "print(arr)\n",
    "\n",
    "# Desired Output\n",
    "# out #>  array([ 0, -1,  2, -1,  4, -1,  6, -1,  8, -1])\n",
    "# arr #>  array([0, 1, 2, 3, 4, 5, 6, 7, 8, 9])\n",
    "\n",
    "# Solution\n",
    "out = arr.copy()\n",
    "out[out%2 != 0] = -1\n",
    "print(\"Output\")\n",
    "print(\"Modified array\")\n",
    "print(out)\n",
    "print(\"Original array\")\n",
    "print(arr)"
   ]
  },
  {
   "cell_type": "code",
   "execution_count": 11,
   "metadata": {},
   "outputs": [
    {
     "name": "stdout",
     "output_type": "stream",
     "text": [
      "Input\n",
      "[0 1 2 3 4 5 6 7 8 9]\n",
      "Output: reshaped array\n",
      "[[0 1 2 3 4]\n",
      " [5 6 7 8 9]]\n"
     ]
    }
   ],
   "source": [
    "# Convert a 1D array to a 2D array with 2 rows\n",
    "# Input \n",
    "arr = np.arange(10)\n",
    "print(\"Input\")\n",
    "print(arr)\n",
    "\n",
    "# Desired Output\n",
    "# > array([[0, 1, 2, 3, 4],\n",
    "# >        [5, 6, 7, 8, 9]])\n",
    "\n",
    "# Output\n",
    "print(\"Output: reshaped array\")\n",
    "print(arr.reshape(2, -1))"
   ]
  },
  {
   "cell_type": "code",
   "execution_count": 12,
   "metadata": {},
   "outputs": [
    {
     "name": "stdout",
     "output_type": "stream",
     "text": [
      "Input\n",
      "[[0 1 2 3 4]\n",
      " [5 6 7 8 9]]\n",
      "[[1 1 1 1 1]\n",
      " [1 1 1 1 1]]\n",
      "Output: verticaly stacked arrays\n",
      "[[0 1 2 3 4]\n",
      " [5 6 7 8 9]\n",
      " [1 1 1 1 1]\n",
      " [1 1 1 1 1]]\n"
     ]
    }
   ],
   "source": [
    "# Stack arrays a and b vertically\n",
    "# Input\n",
    "print(\"Input\")\n",
    "a = np.arange(10).reshape(2,-1)\n",
    "b = np.repeat(1, 10).reshape(2,-1)\n",
    "print(a)\n",
    "print(b)\n",
    "\n",
    "# Desired Output\n",
    "#> array([[0, 1, 2, 3, 4],\n",
    "#>        [5, 6, 7, 8, 9],\n",
    "#>        [1, 1, 1, 1, 1],\n",
    "#>        [1, 1, 1, 1, 1]])\n",
    "\n",
    "# Output\n",
    "print(\"Output: verticaly stacked arrays\")\n",
    "print(np.vstack((a, b)))"
   ]
  },
  {
   "cell_type": "code",
   "execution_count": 13,
   "metadata": {},
   "outputs": [
    {
     "name": "stdout",
     "output_type": "stream",
     "text": [
      "Input\n",
      "[[0 1 2 3 4]\n",
      " [5 6 7 8 9]]\n",
      "[[1 1 1 1 1]\n",
      " [1 1 1 1 1]]\n",
      "Output: horizontally stacked arrays\n",
      "[[0 1 2 3 4 1 1 1 1 1]\n",
      " [5 6 7 8 9 1 1 1 1 1]]\n"
     ]
    }
   ],
   "source": [
    "# Stack the arrays a and b horizontally.\n",
    "# Input\n",
    "print(\"Input\")\n",
    "a = np.arange(10).reshape(2,-1)\n",
    "b = np.repeat(1, 10).reshape(2,-1)\n",
    "\n",
    "print(a)\n",
    "print(b)\n",
    "\n",
    "# Desired Output\n",
    "# > array([[0, 1, 2, 3, 4, 1, 1, 1, 1, 1],\n",
    "# >        [5, 6, 7, 8, 9, 1, 1, 1, 1, 1]])\n",
    "\n",
    "# Output\n",
    "print(\"Output: horizontally stacked arrays\")\n",
    "print(np.hstack((a, b)))"
   ]
  },
  {
   "cell_type": "code",
   "execution_count": 17,
   "metadata": {},
   "outputs": [
    {
     "name": "stdout",
     "output_type": "stream",
     "text": [
      "Input\n",
      "Solution\n"
     ]
    },
    {
     "data": {
      "text/plain": [
       "array([1, 1, 1, 1, 1, 1, 1, 1, 1, 1, 2, 2, 2, 2, 2, 2, 2, 2, 2, 2, 3, 3,\n",
       "       3, 3, 3, 3, 3, 3, 3, 3, 1, 2, 3, 1, 2, 3, 1, 2, 3])"
      ]
     },
     "execution_count": 17,
     "metadata": {},
     "output_type": "execute_result"
    }
   ],
   "source": [
    "# Q. Create the following pattern without hardcoding. Use only numpy functions and the below input array a.\n",
    "\n",
    "# Input\n",
    "print(\"Input\")\n",
    "a = np.array([1,2,3])\n",
    "a\n",
    "\n",
    "# Desired Output\n",
    "# > array([1, 1, 1, 2, 2, 2, 3, 3, 3, 1, 2, 3, 1, 2, 3, 1, 2, 3])\n",
    "\n",
    "# Solution\n",
    "print(\"Solution\")\n",
    "solution_array = np.hstack((np.repeat(a, 10), a, a, a)) # using repeat to generate the 111222.. sequence and hstack 3 times the original array\n",
    "np.set_printoptions(threshold=len(solution_array)) # just to help us see all the array-\n",
    "solution_array"
   ]
  },
  {
   "cell_type": "code",
   "execution_count": 18,
   "metadata": {},
   "outputs": [
    {
     "name": "stdout",
     "output_type": "stream",
     "text": [
      "Input\n",
      "Solution\n"
     ]
    },
    {
     "data": {
      "text/plain": [
       "array([2, 4])"
      ]
     },
     "execution_count": 18,
     "metadata": {},
     "output_type": "execute_result"
    }
   ],
   "source": [
    "# Q. Get the common items between a and b\n",
    "\n",
    "# Input\n",
    "print(\"Input\")\n",
    "a = np.array([1,2,3,2,3,4,3,4,5,6])\n",
    "b = np.array([7,2,10,2,7,4,9,4,9,8])\n",
    "a\n",
    "b\n",
    "\n",
    "# Desired Output\n",
    "# array([2, 4])\n",
    "\n",
    "# Solution\n",
    "print(\"Solution\")\n",
    "np.unique(a[a == b])"
   ]
  },
  {
   "cell_type": "code",
   "execution_count": 19,
   "metadata": {},
   "outputs": [
    {
     "name": "stdout",
     "output_type": "stream",
     "text": [
      "Input\n",
      "Solution\n"
     ]
    },
    {
     "data": {
      "text/plain": [
       "array([1, 2, 3, 4])"
      ]
     },
     "execution_count": 19,
     "metadata": {},
     "output_type": "execute_result"
    }
   ],
   "source": [
    "# Q. From array a remove all items present in array b\n",
    "\n",
    "# Input\n",
    "print(\"Input\")\n",
    "a = np.array([1,2,3,4,5])\n",
    "b = np.array([5,6,7,8,9])\n",
    "a\n",
    "b\n",
    "\n",
    "# Desired Output\n",
    "# array([1,2,3,4])\n",
    "\n",
    "# Solution\n",
    "print(\"Solution\")\n",
    "a[~np.isin(a,b)] # np.isin to find the common elements (returns an array of Booleans). To filter only False, use ~ (CTRL + ALT + 4)"
   ]
  },
  {
   "cell_type": "code",
   "execution_count": 20,
   "metadata": {},
   "outputs": [
    {
     "name": "stdout",
     "output_type": "stream",
     "text": [
      "Input\n",
      "Solution\n"
     ]
    },
    {
     "data": {
      "text/plain": [
       "(array([1, 3, 5, 7]),)"
      ]
     },
     "execution_count": 20,
     "metadata": {},
     "output_type": "execute_result"
    }
   ],
   "source": [
    "# Q. Get the positions where elements of a and b match\n",
    "\n",
    "# Input\n",
    "print(\"Input\")\n",
    "a = np.array([1,2,3,2,3,4,3,4,5,6])\n",
    "b = np.array([7,2,10,2,7,4,9,4,9,8])\n",
    "a\n",
    "b\n",
    "\n",
    "# Desired Output\n",
    "# > (array([1, 3, 5, 7]),)\n",
    "\n",
    "# Solution\n",
    "print(\"Solution\")\n",
    "np.where(a == b) # Notice: the solution if the INDEX but the values"
   ]
  },
  {
   "cell_type": "code",
   "execution_count": 21,
   "metadata": {},
   "outputs": [
    {
     "name": "stdout",
     "output_type": "stream",
     "text": [
      "Input\n",
      "Solution\n"
     ]
    },
    {
     "data": {
      "text/plain": [
       "array([6, 9])"
      ]
     },
     "execution_count": 21,
     "metadata": {},
     "output_type": "execute_result"
    }
   ],
   "source": [
    "# Q. Get all items between 5 and 10 from a.\n",
    "\n",
    "# Input\n",
    "print(\"Input\")\n",
    "a = np.array([2, 6, 1, 9, 10, 3, 27])\n",
    "a\n",
    "\n",
    "# Desired Output\n",
    "# (array([6, 9, 10]),)\n",
    "\n",
    "# Solution\n",
    "print(\"Solution\")\n",
    "a[(a > 5) & (a < 10)]\n"
   ]
  },
  {
   "cell_type": "code",
   "execution_count": 23,
   "metadata": {},
   "outputs": [
    {
     "name": "stdout",
     "output_type": "stream",
     "text": [
      "Result of the maxx function\n",
      "5\n",
      "Input\n",
      "[5 7 9 8 6 4 5]\n",
      "[6 3 4 8 9 7 1]\n",
      "Solution\n",
      "[6 7 9 8 9 7 5]\n"
     ]
    }
   ],
   "source": [
    "# Q. Convert the function maxx that works on two scalars, to work on two arrays.\n",
    "\n",
    "# Input\n",
    "\n",
    "def maxx(x, y):\n",
    "    \"\"\"\n",
    "    Get the maximum of two items\n",
    "    \"\"\"\n",
    "    \n",
    "    if x >= y:\n",
    "        return x\n",
    "    else:\n",
    "        return y\n",
    "print(\"Result of the maxx function\")\n",
    "print(maxx(1, 5))\n",
    "\n",
    "print(\"Input\")\n",
    "a = np.array([5, 7, 9, 8, 6, 4, 5])\n",
    "b = np.array([6, 3, 4, 8, 9, 7, 1])\n",
    "print(a)\n",
    "print(b)\n",
    "\n",
    "# Desired Output\n",
    "# pair_max(a, b)\n",
    "#> array([ 6.,  7.,  9.,  8.,  9.,  7.,  5.])\n",
    "\n",
    "# Solution\n",
    "print(\"Solution\")\n",
    "\n",
    "def pair_max(a, b):\n",
    "    return np.array([max(x, y) for x, y in zip(a, b)]) # using a list comprehension to find the max between 2 arrays elementwise (using zip) and convert to numpy array\n",
    "\n",
    "print(pair_max(a, b))\n"
   ]
  },
  {
   "cell_type": "code",
   "execution_count": 27,
   "metadata": {},
   "outputs": [
    {
     "name": "stdout",
     "output_type": "stream",
     "text": [
      "Input\n",
      "[[0 1 2]\n",
      " [3 4 5]\n",
      " [6 7 8]]\n",
      "Solution\n",
      "[[1 0 2]\n",
      " [4 3 5]\n",
      " [7 6 8]]\n"
     ]
    }
   ],
   "source": [
    "# Q. Swap columns 1 and 2 in the array arr.\n",
    "\n",
    "# Input\n",
    "print(\"Input\")\n",
    "arr = np.arange(9).reshape(3,3)\n",
    "print(arr)\n",
    "\n",
    "# Solution\n",
    "print(\"Solution\")\n",
    "temp = arr[:,0].copy() # temporary variable\n",
    "arr[:,0], arr[:,1] = arr[:,1], temp\n",
    "print(arr)"
   ]
  },
  {
   "cell_type": "code",
   "execution_count": 28,
   "metadata": {},
   "outputs": [
    {
     "name": "stdout",
     "output_type": "stream",
     "text": [
      "Input\n",
      "[[0 1 2]\n",
      " [3 4 5]\n",
      " [6 7 8]]\n",
      "Solution\n",
      "[[3 4 5]\n",
      " [0 1 2]\n",
      " [6 7 8]]\n"
     ]
    }
   ],
   "source": [
    "# Q. Swap rows 1 and 2 in the array arr:\n",
    "\n",
    "# Input\n",
    "print(\"Input\")\n",
    "arr = np.arange(9).reshape(3,3)\n",
    "print(arr)\n",
    "\n",
    "# Solution\n",
    "print(\"Solution\")\n",
    "temp = arr[0,:].copy() # temporary variable\n",
    "arr[0,:], arr[1,:] = arr[1,:], temp\n",
    "print(arr)"
   ]
  },
  {
   "cell_type": "code",
   "execution_count": 29,
   "metadata": {},
   "outputs": [
    {
     "name": "stdout",
     "output_type": "stream",
     "text": [
      "Input\n",
      "[[0 1 2]\n",
      " [3 4 5]\n",
      " [6 7 8]]\n",
      "Solution\n",
      "[[6 7 8]\n",
      " [3 4 5]\n",
      " [0 1 2]]\n",
      "[[6 7 8]\n",
      " [3 4 5]\n",
      " [0 1 2]]\n"
     ]
    }
   ],
   "source": [
    "# Q. Reverse the rows of a 2D array arr.\n",
    "\n",
    "# Input\n",
    "print(\"Input\")\n",
    "arr = np.arange(9).reshape(3,3)\n",
    "print(arr)\n",
    "\n",
    "# Solution\n",
    "print(\"Solution\")\n",
    "print(arr[::-1])\n",
    "print(arr[::-1, :]) # exactly the same"
   ]
  },
  {
   "cell_type": "code",
   "execution_count": 30,
   "metadata": {},
   "outputs": [
    {
     "name": "stdout",
     "output_type": "stream",
     "text": [
      "Input\n",
      "[[0 1 2]\n",
      " [3 4 5]\n",
      " [6 7 8]]\n",
      "Solution\n",
      "[[2 1 0]\n",
      " [5 4 3]\n",
      " [8 7 6]]\n"
     ]
    }
   ],
   "source": [
    "# Q. Reverse the columns of a 2D array arr.\n",
    "\n",
    "# Input\n",
    "print(\"Input\")\n",
    "arr = np.arange(9).reshape(3,3)\n",
    "print(arr)\n",
    "\n",
    "# Solution\n",
    "print(\"Solution\")\n",
    "print(arr[:, ::-1])"
   ]
  },
  {
   "cell_type": "code",
   "execution_count": 31,
   "metadata": {},
   "outputs": [
    {
     "name": "stdout",
     "output_type": "stream",
     "text": [
      "Solution\n",
      "[[ 7  9 10]\n",
      " [ 5  8  8]\n",
      " [10  8  8]\n",
      " [10  8  5]\n",
      " [ 7  9  7]]\n"
     ]
    }
   ],
   "source": [
    "# Q. Create a 2D array of shape 5x3 to contain random decimal numbers between 5 and 10.\n",
    "\n",
    "# Solution\n",
    "print(\"Solution\")\n",
    "# randint first argument: lower bound, second argument: higher bound (if you put 10, it will max return 9, so we add 1), third argument: number of samples. Then we reshape and done.\n",
    "print(np.random.randint(5, 11, 15).reshape(5, 3))\n"
   ]
  },
  {
   "cell_type": "code",
   "execution_count": 32,
   "metadata": {},
   "outputs": [
    {
     "name": "stdout",
     "output_type": "stream",
     "text": [
      "Input\n",
      "[[0.99109637 0.66699606 0.91242741]\n",
      " [0.91923814 0.42830194 0.08839173]\n",
      " [0.79021299 0.69603133 0.30061508]\n",
      " [0.89904524 0.75581911 0.5559385 ]\n",
      " [0.60184748 0.99812702 0.94084771]]\n",
      "Solution\n",
      "[[0.991 0.667 0.912]\n",
      " [0.919 0.428 0.088]\n",
      " [0.79  0.696 0.301]\n",
      " [0.899 0.756 0.556]\n",
      " [0.602 0.998 0.941]]\n"
     ]
    }
   ],
   "source": [
    "\n",
    "# Q. Print or show only 3 decimal places of the numpy array rand_arr.\n",
    "\n",
    "# Setting print options to default\n",
    "np.set_printoptions(edgeitems=3,infstr='inf', linewidth=75, nanstr='nan', precision=8, suppress=False, threshold=1000, formatter=None)\n",
    "\n",
    "# Input\n",
    "print(\"Input\")\n",
    "rand_arr = np.random.random((5,3))\n",
    "print(rand_arr)\n",
    "\n",
    "# Solution\n",
    "print(\"Solution\")\n",
    "np.set_printoptions(precision=3)\n",
    "print(rand_arr)"
   ]
  },
  {
   "cell_type": "code",
   "execution_count": 33,
   "metadata": {},
   "outputs": [
    {
     "name": "stdout",
     "output_type": "stream",
     "text": [
      "Input\n",
      "[[5.43404942e-04 2.78369385e-04 4.24517591e-04]\n",
      " [8.44776132e-04 4.71885619e-06 1.21569121e-04]\n",
      " [6.70749085e-04 8.25852755e-04 1.36706590e-04]]\n",
      "Solution\n",
      "[[0.0005434  0.00027837 0.00042452]\n",
      " [0.00084478 0.00000472 0.00012157]\n",
      " [0.00067075 0.00082585 0.00013671]]\n"
     ]
    }
   ],
   "source": [
    "# Q. Pretty print rand_arr by suppressing the scientific notation (like 1e10)\n",
    "\n",
    "# Setting print options to default\n",
    "np.set_printoptions(edgeitems=3,infstr='inf', linewidth=75, nanstr='nan', precision=8, suppress=False, threshold=1000, formatter=None)\n",
    "\n",
    "# Input\n",
    "print(\"Input\")\n",
    "np.random.seed(100)\n",
    "rand_arr = np.random.random([3,3])/1e3\n",
    "print(rand_arr)\n",
    "\n",
    "# Desired Output\n",
    "# > array([[ 0.000543,  0.000278,  0.000425],\n",
    "# >        [ 0.000845,  0.000005,  0.000122],\n",
    "# >        [ 0.000671,  0.000826,  0.000137]])\n",
    "\n",
    "# Solution\n",
    "print(\"Solution\")\n",
    "np.set_printoptions(suppress=True)\n",
    "print(rand_arr)"
   ]
  },
  {
   "cell_type": "code",
   "execution_count": 35,
   "metadata": {},
   "outputs": [
    {
     "name": "stdout",
     "output_type": "stream",
     "text": [
      "Input\n",
      "[ 0  1  2  3  4  5  6  7  8  9 10 11 12 13 14]\n",
      "Solution\n",
      "[ 0  1  2 ... 12 13 14]\n"
     ]
    }
   ],
   "source": [
    "# Q. Limit the number of items printed in python numpy array a to a maximum of 6 elements.\n",
    "\n",
    "# Setting print options to default\n",
    "np.set_printoptions(edgeitems=3,infstr='inf', linewidth=75, nanstr='nan', precision=8, suppress=False, threshold=1000, formatter=None)\n",
    "\n",
    "# Input\n",
    "print(\"Input\")\n",
    "a = np.arange(15)\n",
    "print(a)\n",
    "\n",
    "# Desired Output\n",
    "# > array([ 0,  1,  2, ..., 12, 13, 14])\n",
    "\n",
    "# Solution\n",
    "print(\"Solution\")\n",
    "np.set_printoptions(threshold=6)\n",
    "print(a)\n"
   ]
  },
  {
   "cell_type": "code",
   "execution_count": 36,
   "metadata": {},
   "outputs": [
    {
     "name": "stdout",
     "output_type": "stream",
     "text": [
      "Input\n",
      "[ 0  1  2 ... 12 13 14]\n",
      "Solution\n",
      "[ 0  1  2  3  4  5  6  7  8  9 10 11 12 13 14]\n"
     ]
    }
   ],
   "source": [
    "# Q. Print the full numpy array a without truncating.\n",
    "\n",
    "# Input\n",
    "print(\"Input\")\n",
    "np.set_printoptions(threshold=6)\n",
    "a = np.arange(15)\n",
    "print(a)\n",
    "\n",
    "# Desired Output\n",
    "# > array([ 0,  1,  2,  3,  4,  5,  6,  7,  8,  9, 10, 11, 12, 13, 14])\n",
    "\n",
    "# Solution\n",
    "print(\"Solution\")\n",
    "np.set_printoptions(threshold=len(a))\n",
    "print(a)\n"
   ]
  },
  {
   "cell_type": "code",
   "execution_count": 38,
   "metadata": {},
   "outputs": [
    {
     "name": "stdout",
     "output_type": "stream",
     "text": [
      "Solution\n",
      "[(  1, 5.1, 3.5, 1.4, 0.2, b'Iris-setosa')\n",
      " (  2, 4.9, 3. , 1.4, 0.2, b'Iris-setosa')\n",
      " (  3, 4.7, 3.2, 1.3, 0.2, b'Iris-setosa') ...\n",
      " (148, 6.5, 3. , 5.2, 2. , b'Iris-virginica')\n",
      " (149, 6.2, 3.4, 5.4, 2.3, b'Iris-virginica')\n",
      " (150, 5.9, 3. , 5.1, 1.8, b'Iris-virginica')]\n"
     ]
    },
    {
     "name": "stderr",
     "output_type": "stream",
     "text": [
      "<ipython-input-38-b810bc30788a>:15: VisibleDeprecationWarning: Reading unicode strings without specifying the encoding argument is deprecated. Set the encoding, use None for the system default.\n",
      "  iris = np.genfromtxt('Iris.csv', delimiter=',', skip_header=1, usecols = [0, 1, 2, 3, 4, 5], dtype = None)\n"
     ]
    }
   ],
   "source": [
    "# Q. Import the iris dataset keeping the text intact.\n",
    "\n",
    "# Input\n",
    "# Use the iris dataset provided\n",
    "\n",
    "# All the available options of the numpy genfromtxt function\n",
    "# numpy.genfromtxt(fname, dtype=<class 'float'>, comments='#', delimiter=None, skip_header=0, \n",
    "#                    skip_footer=0, converters=None, missing_values=None, filling_values=None, \n",
    "#                    usecols=None, names=None, excludelist=None, deletechars=\" !#$%&'()*+, -./:;<=>?@[\\]^{|}~\", \n",
    "#                    replace_space='_', autostrip=False, case_sensitive=True, defaultfmt='f%i', \n",
    "#                    unpack=None, usemask=False, loose=True, invalid_raise=True, max_rows=None, encoding='bytes')[source]¶\n",
    "\n",
    "# Solution\n",
    "print(\"Solution\")\n",
    "iris = np.genfromtxt('Iris.csv', delimiter=',', skip_header=1, usecols = [0, 1, 2, 3, 4, 5], dtype = None)\n",
    "print(iris)"
   ]
  },
  {
   "cell_type": "code",
   "execution_count": 39,
   "metadata": {},
   "outputs": [
    {
     "name": "stdout",
     "output_type": "stream",
     "text": [
      "Solution\n",
      "['Iris-setosa' 'Iris-setosa' 'Iris-setosa' ... 'Iris-virginica'\n",
      " 'Iris-virginica' 'Iris-virginica']\n",
      "Solution from website\n",
      "[b'Species' b'Iris-setosa' b'Iris-setosa' b'Iris-setosa' b'Iris-setosa']\n"
     ]
    },
    {
     "name": "stderr",
     "output_type": "stream",
     "text": [
      "<ipython-input-39-862b87ff0c71>:18: VisibleDeprecationWarning: Reading unicode strings without specifying the encoding argument is deprecated. Set the encoding, use None for the system default.\n",
      "  iris_1d = np.genfromtxt('Iris.csv', delimiter=',', dtype=None)\n"
     ]
    }
   ],
   "source": [
    "# Q. Extract the text column species from the 1D iris imported in previous question.\n",
    "\n",
    "# Input\n",
    "# Use the iris dataset provided\n",
    "# print_files()\n",
    "\n",
    "# Use this if you are working on your local machine\n",
    "# url = 'https://archive.ics.uci.edu/ml/machine-learning-databases/iris/iris.data'\n",
    "# iris_1d = np.genfromtxt(url, delimiter=',', dtype=None)\n",
    "\n",
    "# Solution\n",
    "print(\"Solution\")\n",
    "iris = np.genfromtxt('Iris.csv', delimiter=',', skip_header=1, usecols = [5], dtype='str')\n",
    "print(iris)\n",
    "\n",
    "# Solution from the website\n",
    "print(\"Solution from website\")\n",
    "iris_1d = np.genfromtxt('Iris.csv', delimiter=',', dtype=None)\n",
    "species = np.array([row[5] for row in iris_1d])\n",
    "print(species[:5])"
   ]
  },
  {
   "cell_type": "code",
   "execution_count": 42,
   "metadata": {},
   "outputs": [
    {
     "name": "stdout",
     "output_type": "stream",
     "text": [
      "Solution\n",
      "[(1, 5.1, 3.5, 1.4, 0.2) (2, 4.9, 3. , 1.4, 0.2) (3, 4.7, 3.2, 1.3, 0.2)\n",
      " (4, 4.6, 3.1, 1.5, 0.2)]\n",
      "Another solution from website\n"
     ]
    },
    {
     "name": "stderr",
     "output_type": "stream",
     "text": [
      "<ipython-input-42-746ffaa935d4>:18: VisibleDeprecationWarning: Reading unicode strings without specifying the encoding argument is deprecated. Set the encoding, use None for the system default.\n",
      "  iris_1d = np.genfromtxt('Iris.csv', delimiter=',', dtype=None)\n"
     ]
    },
    {
     "data": {
      "text/plain": [
       "array([[b'Id', b'SepalLengthCm', b'SepalWidthCm', b'PetalLengthCm'],\n",
       "       [b'1', b'5.1', b'3.5', b'1.4'],\n",
       "       [b'2', b'4.9', b'3.0', b'1.4'],\n",
       "       [b'3', b'4.7', b'3.2', b'1.3']], dtype='|S13')"
      ]
     },
     "execution_count": 42,
     "metadata": {},
     "output_type": "execute_result"
    }
   ],
   "source": [
    "# Q. Convert the 1D iris to 2D array iris_2d by omitting the species text field.\n",
    "\n",
    "# Input\n",
    "# Use the iris dataset provided\n",
    "# print_files()\n",
    "\n",
    "# Use this if you are working on your local machine\n",
    "# url = 'https://archive.ics.uci.edu/ml/machine-learning-databases/iris/iris.data'\n",
    "# iris_1d = np.genfromtxt(url, delimiter=',', dtype=None)\n",
    "\n",
    "# Solution\n",
    "print(\"Solution\")\n",
    "iris = np.genfromtxt('Iris.csv', delimiter=',', skip_header=1, usecols = [0, 1, 2, 3, 4], dtype = None)\n",
    "print(iris[:4])\n",
    "\n",
    "# Another solution from the website\n",
    "print(\"Another solution from website\")\n",
    "iris_1d = np.genfromtxt('Iris.csv', delimiter=',', dtype=None)\n",
    "iris_2d = np.array([row.tolist()[:4] for row in iris_1d])\n",
    "iris_2d[:4]"
   ]
  },
  {
   "cell_type": "code",
   "execution_count": 44,
   "metadata": {},
   "outputs": [
    {
     "name": "stdout",
     "output_type": "stream",
     "text": [
      "Solution\n",
      "[(1, 5.1, 3.5, 1.4, 0.2) (2, 4.9, 3. , 1.4, 0.2) (3, 4.7, 3.2, 1.3, 0.2)\n",
      " (4, 4.6, 3.1, 1.5, 0.2)]\n",
      "Another solution from website\n",
      "[[b'Id' b'SepalLengthCm' b'SepalWidthCm' b'PetalLengthCm']\n",
      " [b'1' b'5.1' b'3.5' b'1.4']\n",
      " [b'2' b'4.9' b'3.0' b'1.4']\n",
      " [b'3' b'4.7' b'3.2' b'1.3']]\n"
     ]
    },
    {
     "name": "stderr",
     "output_type": "stream",
     "text": [
      "<ipython-input-44-a457427e978e>:18: VisibleDeprecationWarning: Reading unicode strings without specifying the encoding argument is deprecated. Set the encoding, use None for the system default.\n",
      "  iris_1d = np.genfromtxt('Iris.csv', delimiter=',', dtype=None)\n"
     ]
    }
   ],
   "source": [
    "# Q. Convert the 1D iris to 2D array iris_2d by omitting the species text field.\n",
    "\n",
    "# Input\n",
    "# Use the iris dataset provided\n",
    "# print_files()\n",
    "\n",
    "# Use this if you are working on your local machine\n",
    "# url = 'https://archive.ics.uci.edu/ml/machine-learning-databases/iris/iris.data'\n",
    "# iris_1d = np.genfromtxt(url, delimiter=',', dtype=None)\n",
    "\n",
    "# Solution\n",
    "print(\"Solution\")\n",
    "iris = np.genfromtxt('Iris.csv', delimiter=',', skip_header=1, usecols = [0, 1, 2, 3, 4], dtype = None)\n",
    "print(iris[:4])\n",
    "\n",
    "# Another solution from the website\n",
    "print(\"Another solution from website\")\n",
    "iris_1d = np.genfromtxt('Iris.csv', delimiter=',', dtype=None)\n",
    "iris_2d = np.array([row.tolist()[:4] for row in iris_1d])\n",
    "print(iris_2d[:4])\n"
   ]
  },
  {
   "cell_type": "code",
   "execution_count": 46,
   "metadata": {},
   "outputs": [
    {
     "name": "stdout",
     "output_type": "stream",
     "text": [
      "Solution\n",
      "[5.1 4.9 4.7 ... 6.5 6.2 5.9]\n",
      "Another solution from the website\n",
      "5.843333333333334 5.8 0.8253012917851409\n"
     ]
    }
   ],
   "source": [
    "# Q. Find the mean, median, standard deviation of iris's sepallength (1st column)\n",
    "\n",
    "# Input\n",
    "# Use the iris dataset provided\n",
    "# print_files()\n",
    "\n",
    "# Use this if you are working on your local machine\n",
    "# url = 'https://archive.ics.uci.edu/ml/machine-learning-databases/iris/iris.data'\n",
    "# iris_1d = np.genfromtxt(url, delimiter=',', dtype=None)\n",
    "\n",
    "# Solution\n",
    "print(\"Solution\")\n",
    "iris = np.genfromtxt('Iris.csv', delimiter=',', skip_header=1, usecols = [1])\n",
    "print(iris)\n",
    "\n",
    "import pandas as pd\n",
    "pd.Series(iris).describe()\n",
    "\n",
    "from scipy import stats \n",
    "stats.describe(iris) \n",
    "\n",
    "# Solution from the website\n",
    "print(\"Another solution from the website\")\n",
    "mu, med, sd = np.mean(iris), np.median(iris), np.std(iris)\n",
    "print(mu, med, sd)\n"
   ]
  },
  {
   "cell_type": "code",
   "execution_count": 49,
   "metadata": {},
   "outputs": [
    {
     "name": "stdout",
     "output_type": "stream",
     "text": [
      "Solution\n",
      "[0.22222222 0.16666667 0.11111111 ... 0.61111111 0.52777778 0.44444444]\n",
      "Another solution from the website\n"
     ]
    },
    {
     "data": {
      "text/plain": [
       "array([0.22222222, 0.16666667, 0.11111111, ..., 0.61111111, 0.52777778,\n",
       "       0.44444444])"
      ]
     },
     "execution_count": 49,
     "metadata": {},
     "output_type": "execute_result"
    }
   ],
   "source": [
    "# Q. Create a normalized form of iris's sepallength whose values range exactly between 0 and 1 so that the minimum has value 0 and maximum has value 1.\n",
    "\n",
    "# Input\n",
    "# Use the iris dataset provided\n",
    "# print_files()\n",
    "\n",
    "# Use this if you are working on your local machine\n",
    "# url = 'https://archive.ics.uci.edu/ml/machine-learning-databases/iris/iris.data'\n",
    "# iris_1d = np.genfromtxt(url, delimiter=',', dtype=None)\n",
    "\n",
    "# Solution\n",
    "print(\"Solution\")\n",
    "iris = np.genfromtxt('Iris.csv', delimiter=',', skip_header=1, usecols = [1])\n",
    "print((iris - np.min(iris))/(np.max(iris) - np.min(iris)))\n",
    "\n",
    "# Another solution from the website\n",
    "print(\"Another solution from the website\")\n",
    "iris.ptp() # peak to peak. Basically the same as (np.max(iris) - np.min(iris))\n",
    "(iris - np.min(iris))/iris.ptp()"
   ]
  },
  {
   "cell_type": "code",
   "execution_count": 51,
   "metadata": {},
   "outputs": [
    {
     "name": "stdout",
     "output_type": "stream",
     "text": [
      "Solution\n",
      "0.9999999999999997\n",
      "[[0.00221959 0.00944058 0.00021035 0.00188094]\n",
      " [0.00181724 0.005726   0.00021035 0.00188094]\n",
      " [0.00148783 0.00699375 0.00019033 0.00188094]\n",
      " ...\n",
      " [0.00900086 0.005726   0.00940269 0.011379  ]\n",
      " [0.006668   0.00854219 0.01148447 0.01536005]\n",
      " [0.00493978 0.005726   0.00850791 0.00931634]]\n",
      "Solution from the website\n",
      "4.0\n",
      "[[0.00221959 0.00944058 0.00021035 0.00188094]\n",
      " [0.00181724 0.005726   0.00021035 0.00188094]\n",
      " [0.00148783 0.00699375 0.00019033 0.00188094]\n",
      " ...\n",
      " [0.00900086 0.005726   0.00940269 0.011379  ]\n",
      " [0.006668   0.00854219 0.01148447 0.01536005]\n",
      " [0.00493978 0.005726   0.00850791 0.00931634]]\n"
     ]
    }
   ],
   "source": [
    "# Q. Compute the softmax score of sepallength.\n",
    "\n",
    "# Input\n",
    "# Use the iris dataset provided\n",
    "# print_files()\n",
    "\n",
    "# Use this if you are working on your local machine\n",
    "# url = 'https://archive.ics.uci.edu/ml/machine-learning-databases/iris/iris.data'\n",
    "# iris_1d = np.genfromtxt(url, delimiter=',', dtype=None)\n",
    "\n",
    "# Solution\n",
    "# The Softmax regression is a form of logistic regression that normalizes an input value into a vector of values that follows a probability distribution whose total sums up to 1. \n",
    "print(\"Solution\")\n",
    "iris = np.genfromtxt('Iris.csv', delimiter=',', skip_header=1, usecols = [1])\n",
    "softmax = np.exp(iris)/sum(np.exp(iris))\n",
    "print(softmax.sum()) # it must sum 1\n",
    "\n",
    "# We can also apply this to more than 1 column.\n",
    "iris = np.genfromtxt('Iris.csv', delimiter=',', skip_header=1, usecols = [1, 2, 3, 4])\n",
    "softmax = np.exp(iris)/sum(np.exp(iris))\n",
    "softmax.sum() # We have 4 since we have 4 columns, each sums 1\n",
    "print(softmax)\n",
    "\n",
    "# Solution from the website\n",
    "print(\"Solution from the website\")\n",
    "\n",
    "def softmax(x):\n",
    "    \"\"\"Compute softmax values for each sets of scores in x.\n",
    "    https://stackoverflow.com/questions/34968722/how-to-implement-the-softmax-function-in-python\"\"\"\n",
    "    e_x = np.exp(x - np.max(x))\n",
    "    return e_x / e_x.sum(axis=0)\n",
    "\n",
    "print(softmax(iris).sum())\n",
    "print(softmax(iris))"
   ]
  },
  {
   "cell_type": "code",
   "execution_count": 53,
   "metadata": {},
   "outputs": [
    {
     "name": "stdout",
     "output_type": "stream",
     "text": [
      "Solution\n",
      "[5.1 4.9 4.7 ... 6.5 6.2 5.9]\n"
     ]
    },
    {
     "data": {
      "text/plain": [
       "array([4.6  , 7.255])"
      ]
     },
     "execution_count": 53,
     "metadata": {},
     "output_type": "execute_result"
    }
   ],
   "source": [
    "# Q. Find the 5th and 95th percentile of iris's sepallength\n",
    "\n",
    "# Input\n",
    "# Use the iris dataset provided\n",
    "# print_files()\n",
    "\n",
    "# Use this if you are working on your local machine\n",
    "# url = 'https://archive.ics.uci.edu/ml/machine-learning-databases/iris/iris.data'\n",
    "# iris_1d = np.genfromtxt(url, delimiter=',', dtype=None)\n",
    "\n",
    "# Solution\n",
    "print(\"Solution\")\n",
    "iris = np.genfromtxt('Iris.csv', delimiter=',', skip_header=1, usecols = [1])\n",
    "print(iris)\n",
    "np.percentile(iris, q = [5, 95])\n"
   ]
  },
  {
   "cell_type": "code",
   "execution_count": 55,
   "metadata": {},
   "outputs": [
    {
     "name": "stdout",
     "output_type": "stream",
     "text": [
      "Solution\n",
      "Another solution from the website\n",
      "Solution 3 from the website\n"
     ]
    },
    {
     "name": "stderr",
     "output_type": "stream",
     "text": [
      "<ipython-input-55-cb08d02e79e7>:23: FutureWarning: Using a non-tuple sequence for multidimensional indexing is deprecated; use `arr[tuple(seq)]` instead of `arr[seq]`. In the future this will be interpreted as an array index, `arr[np.array(seq)]`, which will result either in an error or a different result.\n",
      "  iris[nan_index] = np.nan\n"
     ]
    },
    {
     "data": {
      "text/plain": [
       "array([[5.1, 3.5, nan, 0.2],\n",
       "       [4.9, 3. , 1.4, 0.2],\n",
       "       [4.7, 3.2, 1.3, 0.2],\n",
       "       ...,\n",
       "       [6.5, 3. , 5.2, nan],\n",
       "       [6.2, 3.4, 5.4, 2.3],\n",
       "       [5.9, 3. , 5.1, 1.8]])"
      ]
     },
     "execution_count": 55,
     "metadata": {},
     "output_type": "execute_result"
    }
   ],
   "source": [
    "# Q. Insert np.nan values at 20 random positions in iris_2d dataset\n",
    "\n",
    "# Input\n",
    "# Use the iris dataset provided\n",
    "# print_files()\n",
    "\n",
    "# Use this if you are working on your local machine\n",
    "# url = 'https://archive.ics.uci.edu/ml/machine-learning-databases/iris/iris.data'\n",
    "# iris_1d = np.genfromtxt(url, delimiter=',', dtype=None)\n",
    "\n",
    "# Solution\n",
    "print(\"Solution\")\n",
    "iris = np.genfromtxt('Iris.csv', delimiter=',', skip_header=1, usecols = [1, 2, 3, 4])\n",
    "index = np.random.randint(0, 150, 20)\n",
    "iris[index] = np.nan\n",
    "iris\n",
    "\n",
    "# Solution from the website\n",
    "print(\"Another solution from the website\")\n",
    "iris = np.genfromtxt('Iris.csv', delimiter=',', skip_header=1, usecols = [1, 2, 3, 4])\n",
    "i, j = np.where(iris_2d) # get the index of all 600 elements of the array\n",
    "nan_index = [np.random.choice((i), 20), np.random.choice((j), 20)] # get some random values for each row and column\n",
    "iris[nan_index] = np.nan\n",
    "iris\n",
    "\n",
    "# Solution 3 from the website\n",
    "print(\"Solution 3 from the website\")\n",
    "iris = np.genfromtxt('Iris.csv', delimiter=',', skip_header=1, usecols = [1, 2, 3, 4])\n",
    "iris[np.random.randint(149, size=20), np.random.randint(4, size=20)] = np.nan\n",
    "iris\n"
   ]
  },
  {
   "cell_type": "code",
   "execution_count": 56,
   "metadata": {},
   "outputs": [
    {
     "name": "stdout",
     "output_type": "stream",
     "text": [
      "Solution\n",
      "Number of missing values: \n",
      " 47\n"
     ]
    }
   ],
   "source": [
    "#### Q. Find the number and position of missing values in iris_2d's sepallength (1st column)\n",
    "\n",
    "# Input\n",
    "# Use the iris dataset provided\n",
    "# print_files()\n",
    "\n",
    "# Use this if you are working on your local machine\n",
    "# url = 'https://archive.ics.uci.edu/ml/machine-learning-databases/iris/iris.data'\n",
    "# iris_2d = np.genfromtxt(url, delimiter=',', dtype='float')\n",
    "# iris_2d[np.random.randint(150, size=20), np.random.randint(4, size=20)] = np.nan\n",
    "\n",
    "# Solution\n",
    "print(\"Solution\")\n",
    "iris = np.genfromtxt('Iris.csv', delimiter=',', skip_header=1, usecols = [1, 2, 3, 4])\n",
    "iris[:,0][np.random.randint(0 , len(iris), 50)] = np.nan # set some random values in the first column\n",
    "iris\n",
    "nan_index_1 = np.where(np.isnan(iris)) # to check for nan, the official documentation always recommends using np.isnan\n",
    "nan_index_1\n",
    "iris[nan_index_1]\n",
    "print(\"Number of missing values: \\n\", np.isnan(iris[:, 0]).sum())\n"
   ]
  },
  {
   "cell_type": "code",
   "execution_count": 57,
   "metadata": {},
   "outputs": [
    {
     "name": "stdout",
     "output_type": "stream",
     "text": [
      "Solution\n",
      "Using criteria saved as objects\n",
      "Using reduce\n"
     ]
    },
    {
     "data": {
      "text/plain": [
       "array([[6.3, 3.3, 4.7, 1.6],\n",
       "       [5.9, 3.2, 4.8, 1.8],\n",
       "       [6.7, 3. , 5. , 1.7],\n",
       "       ...,\n",
       "       [6.5, 3. , 5.2, 2. ],\n",
       "       [6.2, 3.4, 5.4, 2.3],\n",
       "       [5.9, 3. , 5.1, 1.8]])"
      ]
     },
     "execution_count": 57,
     "metadata": {},
     "output_type": "execute_result"
    }
   ],
   "source": [
    "# Q. Filter the rows of iris_2d that has petallength (3rd column) > 1.5 and sepallength (1st column) < 5.0\n",
    "\n",
    "# Input\n",
    "# Use the iris dataset provided\n",
    "# print_files()\n",
    "\n",
    "# Use this if you are working on your local machine\n",
    "# url = 'https://archive.ics.uci.edu/ml/machine-learning-databases/iris/iris.data'\n",
    "# iris_2d = np.genfromtxt(url, delimiter=',', dtype='float', usecols=[0,1,2,3])\n",
    "\n",
    "# Solution\n",
    "print(\"Solution\")\n",
    "iris = np.genfromtxt('Iris.csv', delimiter=',', skip_header=1, usecols = [1, 2, 3, 4])\n",
    "reduce_array = iris[(iris[:,3] > 1.5) & (iris[:,1] < 5)]\n",
    "iris.shape\n",
    "reduce_array.shape\n",
    "reduce_array\n",
    "\n",
    "# Another solution\n",
    "print(\"Using criteria saved as objects\")\n",
    "cond1 = iris[:,3] > 1.5\n",
    "cond2 = iris[:,1] < 5\n",
    "reduce_array2 = iris[cond1 & cond2]\n",
    "reduce_array2.shape\n",
    "reduce_array2\n",
    "\n",
    "# Another solution using reduce\n",
    "print(\"Using reduce\")\n",
    "from functools import reduce\n",
    "criteria = reduce(lambda x, y: x & y, (cond1, cond2))\n",
    "iris[criteria].shape\n",
    "iris[criteria]\n"
   ]
  },
  {
   "cell_type": "code",
   "execution_count": 59,
   "metadata": {},
   "outputs": [
    {
     "name": "stdout",
     "output_type": "stream",
     "text": [
      "Solution\n",
      "Solution from the website\n"
     ]
    },
    {
     "data": {
      "text/plain": [
       "0"
      ]
     },
     "execution_count": 59,
     "metadata": {},
     "output_type": "execute_result"
    }
   ],
   "source": [
    "# Q. Select the rows of iris_2d that does not have any nan value.\n",
    "\n",
    "# Input\n",
    "# Use the titanic dataset provided\n",
    "# print_files()\n",
    "\n",
    "# set original print statements\n",
    "np.set_printoptions(edgeitems=3,infstr='inf', linewidth=75, nanstr='nan', precision=8, suppress=False, threshold=1000, formatter=None)\n",
    "\n",
    "# Solution\n",
    "print(\"Solution\")\n",
    "\n",
    "# Importing the titanic df\n",
    "def import_titanic():\n",
    "    with open(\"train.csv\", \"r\") as f:\n",
    "        data = f.read()\n",
    "        l = []\n",
    "        for row in data.split(\"\\n\")[1:-1]:\n",
    "            r_ = row.split(\",\")\n",
    "            l_ = []\n",
    "            for c in r_:\n",
    "                if c == \"\": \n",
    "                    l_.append(np.nan)\n",
    "                else:\n",
    "                    try:\n",
    "                        l_.append(float(c))\n",
    "                    except:\n",
    "                        l_.append(c)\n",
    "            l.append(l_)\n",
    "    return l\n",
    "\n",
    "l = import_titanic()\n",
    "# only numeric columns\n",
    "a = np.array(l, dtype = object)[:,[1, 2, 6, 7, 8, 10]]\n",
    "# convert to float\n",
    "arr = np.array(a, dtype = float)\n",
    "# select rows with nan values\n",
    "nan_r = np.array([~np.any(np.isnan(row)) for row in arr])\n",
    "# filter the array\n",
    "arr_no_nan = arr[nan_r]\n",
    "arr_no_nan\n",
    "# check: the sum of nans must be zero\n",
    "np.isnan(arr_no_nan).sum()\n",
    "\n",
    "# Solution 2\n",
    "print(\"Solution from the website\")\n",
    "l = import_titanic()\n",
    "a = np.array(l, dtype = object)[:,[1, 2, 6, 7, 8, 10]]\n",
    "arr = np.array(a, dtype = float)\n",
    "arr[np.sum(np.isnan(arr), axis = 1) == 0] # much more elegant solution\n",
    "np.isnan(arr[np.sum(np.isnan(arr), axis = 1) == 0]).sum()\n"
   ]
  },
  {
   "cell_type": "code",
   "execution_count": 61,
   "metadata": {},
   "outputs": [
    {
     "name": "stdout",
     "output_type": "stream",
     "text": [
      "Solution\n",
      "Solution from the website using scipy\n",
      "-0.3565440896138058\n",
      "7.523890956067452e-06\n"
     ]
    }
   ],
   "source": [
    "# Q. Find the correlation between SepalLength(1st column) and PetalLength(3rd column) in iris_2d\n",
    "\n",
    "# Input\n",
    "# Use the iris dataset provided\n",
    "# print_files()\n",
    "\n",
    "# Use this if you are working on your local machine\n",
    "# url = 'https://archive.ics.uci.edu/ml/machine-learning-databases/iris/iris.data'\n",
    "# iris_2d = np.genfromtxt(url, delimiter=',', dtype='float', usecols=[0,1,2,3])\n",
    "\n",
    "# Solution\n",
    "print(\"Solution\")\n",
    "iris = np.genfromtxt('Iris.csv', delimiter=',', skip_header=1, usecols = [1, 2, 3, 4])\n",
    "np.correlate(iris[:,1], iris[:,3]) # This function computes the correlation as generally defined in signal processing texts: c_{av}[k] = sum_n a[n+k] * conj(v[n])\n",
    "np.corrcoef(iris[:,1], iris[:,3]) # Pearson correlation\n",
    "\n",
    "# Solution from the website\n",
    "print(\"Solution from the website using scipy\")\n",
    "from scipy.stats.stats import pearsonr  \n",
    "corr, p_value = pearsonr(iris[:, 1], iris[:, 3])\n",
    "print(corr)\n",
    "print(p_value)\n"
   ]
  },
  {
   "cell_type": "code",
   "execution_count": 63,
   "metadata": {},
   "outputs": [
    {
     "name": "stdout",
     "output_type": "stream",
     "text": [
      "Solution\n",
      "It's True that we have nan values. The total amout of nan values is 20\n"
     ]
    }
   ],
   "source": [
    "# Q. Find out if iris_2d has any missing values.\n",
    "\n",
    "# Input\n",
    "# Use the iris dataset provided\n",
    "# print_files()\n",
    "\n",
    "# Use this if you are working on your local machine\n",
    "# url = 'https://archive.ics.uci.edu/ml/machine-learning-databases/iris/iris.data'\n",
    "# iris_2d = np.genfromtxt(url, delimiter=',', dtype='float', usecols=[0,1,2,3])\n",
    "\n",
    "# Solution\n",
    "print(\"Solution\")\n",
    "iris = np.genfromtxt(\"Iris.csv\", delimiter=\",\",  dtype='float', usecols=[1,2,3,4], skip_header=1)\n",
    "iris[np.random.randint(150, size=20), np.random.randint(4, size=20)] = np.nan # inser some null values\n",
    "\n",
    "print(\"It's {} that we have nan values. The total amout of nan values is {}\".format(np.any(np.isnan(iris)), np.isnan(iris).sum())) # first returns True second the total of nan values\n"
   ]
  },
  {
   "cell_type": "code",
   "execution_count": 67,
   "metadata": {},
   "outputs": [
    {
     "name": "stdout",
     "output_type": "stream",
     "text": [
      "Solution\n",
      "Before applying nan_to_num.\n",
      "20\n",
      "After applying nan_to_num.\n",
      "0\n",
      "Solution from the website\n",
      "0\n"
     ]
    }
   ],
   "source": [
    "# Q. Replace all ccurrences of nan with 0 in numpy array\n",
    "\n",
    "# Input\n",
    "# Use the iris dataset provided\n",
    "# print_files()\n",
    "\n",
    "# Use this if you are working on your local machine\n",
    "# url = 'https://archive.ics.uci.edu/ml/machine-learning-databases/iris/iris.data'\n",
    "# iris_2d = np.genfromtxt(url, delimiter=',', dtype='float', usecols=[0,1,2,3])\n",
    "# iris_2d[np.random.randint(150, size=20), np.random.randint(4, size=20)] = np.nan\n",
    "\n",
    "# Solution\n",
    "print(\"Solution\")\n",
    "iris = np.genfromtxt(\"Iris.csv\", delimiter=\",\",  dtype='float', usecols=[1,2,3,4], skip_header=1)\n",
    "iris[np.random.randint(150, size=20), np.random.randint(4, size=20)] = np.nan # inser some null values\n",
    "\n",
    "print(\"Before applying nan_to_num.\")\n",
    "print(np.isnan(iris).sum())\n",
    "a = np.nan_to_num(iris, 0)\n",
    "print(\"After applying nan_to_num.\")\n",
    "print(np.isnan(a).sum())\n",
    "\n",
    "# Solution from the website\n",
    "print(\"Solution from the website\")\n",
    "iris = np.genfromtxt(\"Iris.csv\", delimiter=\",\",  dtype='float', usecols=[1,2,3,4], skip_header=1)\n",
    "iris[np.random.randint(150, size=20), np.random.randint(4, size=20)] = np.nan # inser some null values\n",
    "np.isnan(iris).sum()\n",
    "iris[np.isnan(iris)] = 0\n",
    "print(np.isnan(a).sum())\n"
   ]
  },
  {
   "cell_type": "code",
   "execution_count": 69,
   "metadata": {},
   "outputs": [
    {
     "name": "stdout",
     "output_type": "stream",
     "text": [
      "Solution using list comprehension\n",
      "[(b'Iris-setosa', 50), (b'Iris-versicolor', 50), (b'Iris-virginica', 50)]\n",
      "Solution from the website\n"
     ]
    },
    {
     "data": {
      "text/plain": [
       "(array([b'Iris-setosa', b'Iris-versicolor', b'Iris-virginica'],\n",
       "       dtype='|S15'),\n",
       " array([50, 50, 50]))"
      ]
     },
     "execution_count": 69,
     "metadata": {},
     "output_type": "execute_result"
    }
   ],
   "source": [
    "# Q. Find the unique values and the count of unique values in iris's species\n",
    "\n",
    "# Input\n",
    "# Use the iris dataset provided\n",
    "# print_files()\n",
    "\n",
    "# Use this if you are working on your local machine\n",
    "# url = 'https://archive.ics.uci.edu/ml/machine-learning-databases/iris/iris.data'\n",
    "# iris_2d = np.genfromtxt(url, delimiter=',', dtype='float', usecols=[0,1,2,3])\n",
    "# names = ('sepallength', 'sepalwidth', 'petallength', 'petalwidth', 'species')\n",
    "\n",
    "# Solution\n",
    "print(\"Solution using list comprehension\")\n",
    "iris = np.genfromtxt(\"Iris.csv\", delimiter = \",\", usecols=[5], dtype=object, skip_header=1)\n",
    "l = [(v, np.count_nonzero(iris[iris == v])) for v in np.unique(iris)]\n",
    "print(l)\n",
    "\n",
    "# Solution from the website\n",
    "print(\"Solution from the website\")\n",
    "iris = np.genfromtxt(\"Iris.csv\", delimiter = \",\", usecols=[5], dtype=object, skip_header=1)\n",
    "np.unique([v for v in iris], return_counts=True) # much more elegant\n"
   ]
  },
  {
   "cell_type": "code",
   "execution_count": 70,
   "metadata": {},
   "outputs": [
    {
     "name": "stdout",
     "output_type": "stream",
     "text": [
      "Solution\n",
      "[1 1 1 1 1 1 1 1 1 1 1 1 1 1 1 1 1 1 1 1 1 1 1 1 1 1 1 1 1 1 1 1 1 1 1 1 1\n",
      " 1 1 1 1 1 1 1 1 1 1 1 1 1 2 2 2 2 2 2 2 2 2 2 2 2 2 2 2 2 2 2 2 2 2 2 2 2\n",
      " 2 2 2 3 2 2 2 2 2 3 2 2 2 2 2 2 2 2 2 2 2 2 2 2 2 2 3 3 3 3 3 3 2 3 3 3 3\n",
      " 3 3 3 3 3 3 3 3 3 3 2 3 2 3 3 2 2 3 3 3 3 3 3 3 3 3 3 2 3 3 3 3 3 3 3 3 3\n",
      " 3 3]\n",
      "['small', 'small', 'small', 'small', 'small']\n"
     ]
    }
   ],
   "source": [
    "# Q. Bin the petal length (3rd) column of iris_2d to form a text array, such that if petal length is:\n",
    "# Less than 3 --> 'small'\n",
    "# 3-5 --> 'medium'\n",
    "# '>=5 --> 'large'\n",
    "\n",
    "# Input\n",
    "# Use the iris dataset provided\n",
    "# print_files()\n",
    "\n",
    "# Use this if you are working on your local machine\n",
    "# url = 'https://archive.ics.uci.edu/ml/machine-learning-databases/iris/iris.data'\n",
    "# iris_2d = np.genfromtxt(url, delimiter=',', dtype='float', usecols=[0,1,2,3])\n",
    "# names = ('sepallength', 'sepalwidth', 'petallength', 'petalwidth', 'species')\n",
    "\n",
    "# Solution\n",
    "print(\"Solution\")\n",
    "iris = np.genfromtxt(\"Iris.csv\", delimiter = \",\", usecols=[3], dtype=float, skip_header=1)\n",
    "bin_ = np.digitize(iris.astype('float'), [0, 3, 5, 10])\n",
    "print(bin_)\n",
    "label_map = {1: 'small', 2: 'medium', 3: 'large', 4: np.nan}\n",
    "cat_ = [label_map[x] for x in bin_]\n",
    "print(cat_[:5])\n"
   ]
  },
  {
   "cell_type": "code",
   "execution_count": 71,
   "metadata": {},
   "outputs": [
    {
     "name": "stdout",
     "output_type": "stream",
     "text": [
      "Solution: use numpy.c_[] for columns\n",
      "[[3.5        1.4        7.18013333]\n",
      " [3.         1.4        6.1544    ]\n",
      " [3.2        1.3        5.66037333]\n",
      " [3.1        1.5        7.3005    ]\n",
      " [3.6        1.4        7.38528   ]]\n",
      "Solution from website\n",
      "[[3.5        1.4        7.1837752 ]\n",
      " [3.         1.4        6.1575216 ]\n",
      " [3.2        1.3        5.66324436]\n",
      " [3.1        1.5        7.30420292]]\n"
     ]
    }
   ],
   "source": [
    "# Q. Create a new column for volume in iris_2d, where volume is (pi x petallength x sepal_length^2)/3\n",
    "\n",
    "# Input\n",
    "# Use the iris dataset provided\n",
    "# print_files()\n",
    "\n",
    "# Use this if you are working on your local machine\n",
    "# url = 'https://archive.ics.uci.edu/ml/machine-learning-databases/iris/iris.data'\n",
    "# iris_2d = np.genfromtxt(url, delimiter=',', dtype='float', usecols=[0,1,2,3])\n",
    "# names = ('sepallength', 'sepalwidth', 'petallength', 'petalwidth', 'species')\n",
    "\n",
    "# Solution\n",
    "print(\"Solution: use numpy.c_[] for columns\")\n",
    "iris = np.genfromtxt(\"Iris.csv\", delimiter = \",\", usecols=[2, 3], dtype=float, skip_header=1)\n",
    "iris.shape\n",
    "iris = np.c_[iris, (np.array(iris[:,0] * 3.14 * (iris[:,1])**2))/3]\n",
    "iris.shape\n",
    "print(iris[:5])\n",
    "\n",
    "# Solution from the website\n",
    "print(\"Solution from website\")\n",
    "iris = np.genfromtxt(\"Iris.csv\", delimiter = \",\", usecols=[2, 3], dtype=float, skip_header=1)\n",
    "s = iris[:, 1]\n",
    "p = iris[:, 0]\n",
    "volume = (np.pi * p * (s**2))/3\n",
    "# Introduce new dimension to match iris_2d's\n",
    "volume = volume[:, np.newaxis]\n",
    "# Add the new column\n",
    "out = np.hstack([iris, volume])\n",
    "# View\n",
    "print(out[:4])\n"
   ]
  },
  {
   "cell_type": "code",
   "execution_count": 73,
   "metadata": {},
   "outputs": [
    {
     "name": "stdout",
     "output_type": "stream",
     "text": [
      "Solution from the website\n",
      "[b'Iris-setosa' b'Iris-setosa' b'Iris-setosa' b'Iris-setosa'\n",
      " b'Iris-setosa' b'Iris-setosa' b'Iris-setosa' b'Iris-setosa'\n",
      " b'Iris-setosa' b'Iris-setosa' b'Iris-setosa' b'Iris-setosa'\n",
      " b'Iris-setosa' b'Iris-setosa' b'Iris-setosa' b'Iris-setosa'\n",
      " b'Iris-setosa' b'Iris-setosa' b'Iris-setosa' b'Iris-setosa'\n",
      " b'Iris-setosa' b'Iris-setosa' b'Iris-setosa' b'Iris-setosa'\n",
      " b'Iris-setosa' b'Iris-setosa' b'Iris-setosa' b'Iris-setosa'\n",
      " b'Iris-setosa' b'Iris-setosa' b'Iris-setosa' b'Iris-setosa'\n",
      " b'Iris-setosa' b'Iris-setosa' b'Iris-setosa' b'Iris-setosa'\n",
      " b'Iris-setosa' b'Iris-setosa' b'Iris-setosa' b'Iris-setosa'\n",
      " b'Iris-setosa' b'Iris-setosa' b'Iris-setosa' b'Iris-setosa'\n",
      " b'Iris-setosa' b'Iris-setosa' b'Iris-setosa' b'Iris-setosa'\n",
      " b'Iris-setosa' b'Iris-setosa' b'Iris-versicolor' b'Iris-versicolor'\n",
      " b'Iris-versicolor' b'Iris-versicolor' b'Iris-versicolor'\n",
      " b'Iris-versicolor' b'Iris-versicolor' b'Iris-versicolor'\n",
      " b'Iris-versicolor' b'Iris-versicolor' b'Iris-versicolor'\n",
      " b'Iris-versicolor' b'Iris-versicolor' b'Iris-versicolor'\n",
      " b'Iris-versicolor' b'Iris-versicolor' b'Iris-versicolor'\n",
      " b'Iris-versicolor' b'Iris-versicolor' b'Iris-versicolor'\n",
      " b'Iris-versicolor' b'Iris-versicolor' b'Iris-versicolor'\n",
      " b'Iris-versicolor' b'Iris-versicolor' b'Iris-versicolor'\n",
      " b'Iris-versicolor' b'Iris-versicolor' b'Iris-versicolor'\n",
      " b'Iris-versicolor' b'Iris-versicolor' b'Iris-versicolor'\n",
      " b'Iris-versicolor' b'Iris-versicolor' b'Iris-versicolor'\n",
      " b'Iris-versicolor' b'Iris-versicolor' b'Iris-versicolor'\n",
      " b'Iris-versicolor' b'Iris-versicolor' b'Iris-versicolor'\n",
      " b'Iris-versicolor' b'Iris-versicolor' b'Iris-versicolor'\n",
      " b'Iris-versicolor' b'Iris-versicolor' b'Iris-versicolor'\n",
      " b'Iris-versicolor' b'Iris-versicolor' b'Iris-versicolor'\n",
      " b'Iris-virginica' b'Iris-virginica' b'Iris-virginica' b'Iris-virginica'\n",
      " b'Iris-virginica' b'Iris-virginica' b'Iris-virginica' b'Iris-virginica'\n",
      " b'Iris-virginica' b'Iris-virginica' b'Iris-virginica' b'Iris-virginica'\n",
      " b'Iris-virginica' b'Iris-virginica' b'Iris-virginica' b'Iris-virginica'\n",
      " b'Iris-virginica' b'Iris-virginica' b'Iris-virginica' b'Iris-virginica'\n",
      " b'Iris-virginica' b'Iris-virginica' b'Iris-virginica' b'Iris-virginica'\n",
      " b'Iris-virginica' b'Iris-virginica' b'Iris-virginica' b'Iris-virginica'\n",
      " b'Iris-virginica' b'Iris-virginica' b'Iris-virginica' b'Iris-virginica'\n",
      " b'Iris-virginica' b'Iris-virginica' b'Iris-virginica' b'Iris-virginica'\n",
      " b'Iris-virginica' b'Iris-virginica' b'Iris-virginica' b'Iris-virginica'\n",
      " b'Iris-virginica' b'Iris-virginica' b'Iris-virginica' b'Iris-virginica'\n",
      " b'Iris-virginica' b'Iris-virginica' b'Iris-virginica' b'Iris-virginica'\n",
      " b'Iris-virginica' b'Iris-virginica']\n",
      "Solution 1: generate probablistically\n",
      "['Iris-versicolor' 'Iris-setosa' 'Iris-setosa' 'Iris-virginica'\n",
      " 'Iris-setosa' 'Iris-setosa' 'Iris-versicolor' 'Iris-virginica'\n",
      " 'Iris-setosa' 'Iris-versicolor' 'Iris-virginica' 'Iris-setosa'\n",
      " 'Iris-setosa' 'Iris-setosa' 'Iris-setosa' 'Iris-virginica'\n",
      " 'Iris-virginica' 'Iris-setosa' 'Iris-virginica' 'Iris-setosa'\n",
      " 'Iris-setosa' 'Iris-virginica' 'Iris-virginica' 'Iris-setosa'\n",
      " 'Iris-setosa' 'Iris-setosa' 'Iris-setosa' 'Iris-setosa' 'Iris-virginica'\n",
      " 'Iris-setosa' 'Iris-versicolor' 'Iris-versicolor' 'Iris-setosa'\n",
      " 'Iris-setosa' 'Iris-setosa' 'Iris-virginica' 'Iris-virginica'\n",
      " 'Iris-setosa' 'Iris-virginica' 'Iris-versicolor' 'Iris-versicolor'\n",
      " 'Iris-versicolor' 'Iris-versicolor' 'Iris-setosa' 'Iris-setosa'\n",
      " 'Iris-versicolor' 'Iris-virginica' 'Iris-setosa' 'Iris-setosa'\n",
      " 'Iris-virginica' 'Iris-virginica' 'Iris-virginica' 'Iris-setosa'\n",
      " 'Iris-versicolor' 'Iris-setosa' 'Iris-setosa' 'Iris-setosa' 'Iris-setosa'\n",
      " 'Iris-setosa' 'Iris-versicolor' 'Iris-setosa' 'Iris-versicolor'\n",
      " 'Iris-versicolor' 'Iris-setosa' 'Iris-virginica' 'Iris-virginica'\n",
      " 'Iris-versicolor' 'Iris-setosa' 'Iris-setosa' 'Iris-setosa' 'Iris-setosa'\n",
      " 'Iris-setosa' 'Iris-setosa' 'Iris-virginica' 'Iris-virginica'\n",
      " 'Iris-versicolor' 'Iris-versicolor' 'Iris-setosa' 'Iris-setosa'\n",
      " 'Iris-setosa' 'Iris-versicolor' 'Iris-setosa' 'Iris-versicolor'\n",
      " 'Iris-virginica' 'Iris-setosa' 'Iris-setosa' 'Iris-virginica'\n",
      " 'Iris-virginica' 'Iris-setosa' 'Iris-versicolor' 'Iris-versicolor'\n",
      " 'Iris-setosa' 'Iris-setosa' 'Iris-setosa' 'Iris-setosa' 'Iris-versicolor'\n",
      " 'Iris-setosa' 'Iris-versicolor' 'Iris-setosa' 'Iris-versicolor'\n",
      " 'Iris-virginica' 'Iris-virginica' 'Iris-versicolor' 'Iris-setosa'\n",
      " 'Iris-versicolor' 'Iris-virginica' 'Iris-versicolor' 'Iris-virginica'\n",
      " 'Iris-virginica' 'Iris-setosa' 'Iris-setosa' 'Iris-setosa'\n",
      " 'Iris-virginica' 'Iris-virginica' 'Iris-setosa' 'Iris-setosa'\n",
      " 'Iris-versicolor' 'Iris-setosa' 'Iris-setosa' 'Iris-versicolor'\n",
      " 'Iris-versicolor' 'Iris-versicolor' 'Iris-versicolor' 'Iris-setosa'\n",
      " 'Iris-setosa' 'Iris-setosa' 'Iris-setosa' 'Iris-setosa' 'Iris-versicolor'\n",
      " 'Iris-setosa' 'Iris-setosa' 'Iris-setosa' 'Iris-virginica' 'Iris-setosa'\n",
      " 'Iris-setosa' 'Iris-setosa' 'Iris-versicolor' 'Iris-virginica'\n",
      " 'Iris-virginica' 'Iris-virginica' 'Iris-setosa' 'Iris-versicolor'\n",
      " 'Iris-versicolor' 'Iris-setosa' 'Iris-virginica' 'Iris-setosa'\n",
      " 'Iris-virginica' 'Iris-versicolor' 'Iris-setosa' 'Iris-setosa']\n",
      "Solution 2: probablistic sampling\n",
      "(array([b'Iris-setosa', b'Iris-versicolor', b'Iris-virginica'],\n",
      "      dtype=object), array([77, 37, 36]))\n"
     ]
    }
   ],
   "source": [
    "# Q. Randomly sample iris's species such that setose is twice the number of versicolor and virginica\n",
    "\n",
    "# Input\n",
    "# Use the iris dataset provided\n",
    "# print_files()\n",
    "\n",
    "# Use this if you are working on your local machine\n",
    "# url = 'https://archive.ics.uci.edu/ml/machine-learning-databases/iris/iris.data'\n",
    "# iris = np.genfromtxt(url, delimiter=',', dtype='object')\n",
    "\n",
    "# Solution from the website\n",
    "print(\"Solution from the website\")\n",
    "iris = np.genfromtxt(\"Iris.csv\", delimiter = \",\", dtype=object, skip_header=1)\n",
    "# Get the species column\n",
    "species = iris[:, 5]\n",
    "print(species)\n",
    "# Approach 1: Generate Probablistically\n",
    "print(\"Solution 1: generate probablistically\")\n",
    "np.random.seed(100)\n",
    "a = np.array(['Iris-setosa', 'Iris-versicolor', 'Iris-virginica'])\n",
    "species_out = np.random.choice(a, 150, p=[0.5, 0.25, 0.25])\n",
    "species_out\n",
    "print(species_out)\n",
    "\n",
    "# Approach 2: Probablistic Sampling (preferred)\n",
    "print(\"Solution 2: probablistic sampling\")\n",
    "np.random.seed(100)\n",
    "probs = np.r_[np.linspace(0, 0.500, num=50), np.linspace(0.501, .750, num=50), np.linspace(.751, 1.0, num=50)]\n",
    "index = np.searchsorted(probs, np.random.random(150))\n",
    "species_out = species[index]\n",
    "print(np.unique(species_out, return_counts=True))\n"
   ]
  },
  {
   "cell_type": "code",
   "execution_count": 76,
   "metadata": {},
   "outputs": [
    {
     "name": "stdout",
     "output_type": "stream",
     "text": [
      "Solution\n",
      "1.7\n",
      "Solution from the website\n",
      "1.7\n"
     ]
    }
   ],
   "source": [
    "# Q. What is the value of second longest petallength of species setosa\n",
    "\n",
    "# Input\n",
    "# Use the iris dataset provided\n",
    "# print_files()\n",
    "\n",
    "# Use this if you are working on your local machine\n",
    "# url = 'https://archive.ics.uci.edu/ml/machine-learning-databases/iris/iris.data'\n",
    "# iris_2d = np.genfromtxt(url, delimiter=',', dtype='float', usecols=[0,1,2,3])\n",
    "# names = ('sepallength', 'sepalwidth', 'petallength', 'petalwidth', 'species')\n",
    "\n",
    "# Solution\n",
    "print(\"Solution\")\n",
    "headers = np.genfromtxt(\"Iris.csv\", delimiter = \",\", dtype=object, skip_header=0)\n",
    "headers[0]\n",
    "iris = np.genfromtxt(\"Iris.csv\", delimiter = \",\", dtype=object, skip_header=1)\n",
    "# iris\n",
    "sorted_iris = iris[iris[:,5] == b'Iris-setosa'][:,3]\n",
    "sorted_iris = sorted_iris.astype(float)\n",
    "sorted_iris = np.unique(sorted_iris)\n",
    "sorted_iris.sort()\n",
    "print(sorted_iris[::-1][1])\n",
    "\n",
    "# Solution from the website\n",
    "print(\"Solution from the website\")\n",
    "iris = np.genfromtxt(\"Iris.csv\", delimiter = \",\", dtype=object, skip_header=1)\n",
    "petal_len_setosa = iris[iris[:, 5] == b'Iris-setosa', [3]].astype('float')\n",
    "print(np.unique(np.sort(petal_len_setosa))[-2])\n"
   ]
  },
  {
   "cell_type": "code",
   "execution_count": 78,
   "metadata": {},
   "outputs": [
    {
     "name": "stdout",
     "output_type": "stream",
     "text": [
      "Solution\n",
      "[b'Id', b'SepalLengthCm', b'SepalWidthCm', b'PetalLengthCm', b'PetalWidthCm', b'Species']\n",
      "[[14.   4.3  3.   1.1  0.1]\n",
      " [43.   4.4  3.2  1.3  0.2]\n",
      " [39.   4.4  3.   1.3  0.2]\n",
      " [ 9.   4.4  2.9  1.4  0.2]\n",
      " [42.   4.5  2.3  1.3  0.3]]\n",
      "Solution from the website\n",
      "[[14.   4.3  3.   1.1  0.1]\n",
      " [43.   4.4  3.2  1.3  0.2]\n",
      " [39.   4.4  3.   1.3  0.2]\n",
      " [ 9.   4.4  2.9  1.4  0.2]\n",
      " [42.   4.5  2.3  1.3  0.3]]\n"
     ]
    }
   ],
   "source": [
    "# Q. Sort the iris dataset based on sepallength column.\n",
    "\n",
    "# Input\n",
    "# Use the iris dataset provided\n",
    "# print_files()\n",
    "\n",
    "# Use this if you are working on your local machine\n",
    "# url = 'https://archive.ics.uci.edu/ml/machine-learning-databases/iris/iris.data'\n",
    "# iris = np.genfromtxt(url, delimiter=',', dtype='object')\n",
    "# names = ('sepallength', 'sepalwidth', 'petallength', 'petalwidth', 'species')\n",
    "\n",
    "# Solution\n",
    "print(\"Solution\")\n",
    "headers = np.genfromtxt(\"Iris.csv\", delimiter = \",\", dtype=object, skip_header=0)\n",
    "print(list(headers[0]))\n",
    "iris = np.genfromtxt(\"Iris.csv\", delimiter = \",\", usecols=[0,1,2,3,4], skip_header=1)\n",
    "print(iris[iris[:,1].argsort()][:5])\n",
    "\n",
    "# Solution from the website\n",
    "print(\"Solution from the website\")\n",
    "print(iris[iris[:,1].argsort()][:5]) # same solution\n"
   ]
  },
  {
   "cell_type": "code",
   "execution_count": 80,
   "metadata": {},
   "outputs": [
    {
     "name": "stdout",
     "output_type": "stream",
     "text": [
      "Solution\n",
      "[b'Id', b'SepalLengthCm', b'SepalWidthCm', b'PetalLengthCm', b'PetalWidthCm', b'Species']\n",
      "Solution from the website\n",
      "0.2\n"
     ]
    }
   ],
   "source": [
    "# Q. Find the most frequent value of petal length (3rd column) in iris dataset.\n",
    "\n",
    "# Input\n",
    "# Use the iris dataset provided\n",
    "# print_files()\n",
    "\n",
    "# Use this if you are working on your local machine\n",
    "# url = 'https://archive.ics.uci.edu/ml/machine-learning-databases/iris/iris.data'\n",
    "# iris = np.genfromtxt(url, delimiter=',', dtype='object')\n",
    "# names = ('sepallength', 'sepalwidth', 'petallength', 'petalwidth', 'species')\n",
    "\n",
    "# Solution\n",
    "np.set_printoptions(edgeitems=3,infstr='inf', linewidth=75, nanstr='nan', precision=3, suppress=False, threshold=1000, formatter=None)\n",
    "print(\"Solution\")\n",
    "headers = np.genfromtxt(\"Iris.csv\", delimiter = \",\", dtype=object, skip_header=0)\n",
    "print(list(headers[0]))\n",
    "iris = np.genfromtxt(\"Iris.csv\", delimiter = \",\", usecols=[4], skip_header=1)\n",
    "counts = np.unique([v for v in iris], return_counts=True) # we have a tuple of arrays\n",
    "sort_list = sorted(list(zip(counts[0], counts[1])), key = lambda x: x[1]) # extract the values and counts, zip them and sort by the counts\n",
    "sort_list[::-1][0] #reverse the list and get the first (most frequent) the most frequent value of petal lenght is 0.2, it has ocurred 28 times\n",
    "\n",
    "# Solution from the website\n",
    "print(\"Solution from the website\")\n",
    "vals, counts = np.unique(iris, return_counts=True)\n",
    "print(vals[np.argmax(counts)]) # much more elegant solution\n"
   ]
  },
  {
   "cell_type": "code",
   "execution_count": 84,
   "metadata": {},
   "outputs": [
    {
     "name": "stdout",
     "output_type": "stream",
     "text": [
      "Input\n",
      "Solution\n",
      "(array([ 50,  51,  52,  53,  54,  55,  56,  58,  59,  61,  63,  64,  65,\n",
      "        66,  68,  69,  70,  71,  72,  73,  74,  75,  76,  77,  78,  80,\n",
      "        82,  83,  84,  85,  86,  87,  88,  89,  90,  91,  92,  94,  95,\n",
      "        96,  97,  98,  99, 100, 101, 102, 103, 104, 105, 106, 107, 108,\n",
      "       109, 110, 111, 112, 113, 114, 115, 116, 117, 118, 119, 120, 121,\n",
      "       122, 123, 124, 125, 126, 127, 128, 129, 130, 131, 132, 133, 134,\n",
      "       135, 136, 137, 138, 139, 140, 141, 142, 143, 144, 145, 146, 147,\n",
      "       148, 149]),)\n",
      "1.4\n",
      "[0.2 0.2 0.2 0.2 0.2 0.4 0.3 0.2 0.2 0.1 0.2 0.2 0.1 0.1 0.2 0.4 0.4 0.3\n",
      " 0.3 0.3 0.2 0.4 0.2 0.5 0.2 0.2 0.4 0.2 0.2 0.2 0.2 0.4 0.1 0.2 0.1 0.2\n",
      " 0.2 0.1 0.2 0.2 0.3 0.3 0.2 0.6 0.4 0.3 0.2 0.2 0.2 0.2 1.4]\n",
      "Solution from website\n"
     ]
    },
    {
     "data": {
      "text/plain": [
       "array([50])"
      ]
     },
     "execution_count": 84,
     "metadata": {},
     "output_type": "execute_result"
    }
   ],
   "source": [
    "# Q. Find the position of the first occurrence of a value greater than 1.0 in petalwidth 4th column of iris dataset.\n",
    "\n",
    "# Input\n",
    "# Use the iris dataset provided\n",
    "print(\"Input\")\n",
    "# print_files()\n",
    "\n",
    "# Use this if you are working on your local machine\n",
    "# url = 'https://archive.ics.uci.edu/ml/machine-learning-databases/iris/iris.data'\n",
    "# iris = np.genfromtxt(url, delimiter=',', dtype='object')\n",
    "\n",
    "# Solution\n",
    "print(\"Solution\")\n",
    "iris = np.genfromtxt(\"Iris.csv\", delimiter = \",\", usecols=[4], skip_header=1)\n",
    "i = np.where(iris > 1) # returns the index where this is tru\n",
    "print(i)\n",
    "print(iris[i[0][0]]) # first ocurrence is on index 50\n",
    "print(iris[:i[0][0] + 1])\n",
    "\n",
    "# Solution from the website\n",
    "print(\"Solution from website\")\n",
    "np.argwhere(iris.astype(float) > 1.0)[0] # same result but much faster and elegant\n"
   ]
  },
  {
   "cell_type": "code",
   "execution_count": 85,
   "metadata": {},
   "outputs": [
    {
     "name": "stdout",
     "output_type": "stream",
     "text": [
      "Input\n",
      "Solution\n",
      "Solution from the website\n",
      "[27.627 14.64  21.801 30.    10.    10.    30.    30.    10.    29.18\n",
      " 30.    11.251 10.081 10.    11.765 30.    30.    10.    30.    14.43 ]\n"
     ]
    }
   ],
   "source": [
    "# Q. From the array a, replace all values greater than 30 to 30 and less than 10 to 10.\n",
    "# Input\n",
    "print(\"Input\")\n",
    "np.random.seed(100)\n",
    "a = np.random.uniform(1,50, 20)\n",
    "a\n",
    "\n",
    "# Solution\n",
    "print(\"Solution\")\n",
    "c1 = np.where(a > 30)\n",
    "c2 = np.where(a < 10)\n",
    "a[c1] = 30\n",
    "a[c2] = 10\n",
    "a\n",
    "\n",
    "# Solution from the website\n",
    "print(\"Solution from the website\")\n",
    "\n",
    "# Solution 1: Using np.clip\n",
    "np.random.seed(100)\n",
    "a = np.random.uniform(1,50, 20)\n",
    "np.clip(a, a_min=10, a_max=30) # probabily the most elegant solution\n",
    "\n",
    "# Solution 3: Using np.where\n",
    "np.random.seed(100)\n",
    "a = np.random.uniform(1,50, 20)\n",
    "print(np.where(a < 10, 10, np.where(a > 30, 30, a)))\n"
   ]
  },
  {
   "cell_type": "code",
   "execution_count": 87,
   "metadata": {},
   "outputs": [
    {
     "name": "stdout",
     "output_type": "stream",
     "text": [
      "Input\n",
      "Solution\n",
      "[[array([0, 1, 2, 3])], [array([2, 3, 4, 5])], [array([4, 5, 6, 7])], [array([6, 7, 8, 9])], [array([ 8,  9, 10, 11])], [array([10, 11, 12, 13])]]\n",
      "Solution from the website\n",
      "[[ 0  1  2  3]\n",
      " [ 2  3  4  5]\n",
      " [ 4  5  6  7]\n",
      " [ 6  7  8  9]\n",
      " [ 8  9 10 11]\n",
      " [10 11 12 13]]\n"
     ]
    }
   ],
   "source": [
    "# Q. From the given 1d array arr, generate a 2d matrix using strides, with a window length of 4 and strides of 2, like [[0,1,2,3], [2,3,4,5], [4,5,6,7]..]\n",
    "\n",
    "# Input\n",
    "print(\"Input\")\n",
    "arr = np.arange(15) \n",
    "arr\n",
    "\n",
    "# Desired Output\n",
    "# > [[ 0  1  2  3]\n",
    "# >  [ 2  3  4  5]\n",
    "# >  [ 4  5  6  7]\n",
    "# >  [ 6  7  8  9]\n",
    "# >  [ 8  9 10 11]\n",
    "# >  [10 11 12 13]]\n",
    "\n",
    "# Solution\n",
    "print(\"Solution\")\n",
    "index_ = np.arange(0, 15, 2)\n",
    "arr_ = [[arr[index_[i]:index_[i+2]]] for i in range(6)]\n",
    "print(arr_)\n",
    "\n",
    "# Solution from the website\n",
    "print(\"Solution from the website\")\n",
    "def gen_strides(a, stride_len=5, window_len=5):\n",
    "    \n",
    "    n_strides = ((a.size-window_len)//stride_len) + 1\n",
    "    \n",
    "    return np.array([a[s:(s+window_len)] for s in np.arange(0, n_strides*stride_len, stride_len)])\n",
    "\n",
    "print(gen_strides(np.arange(15), stride_len=2, window_len=4))"
   ]
  },
  {
   "cell_type": "code",
   "execution_count": 88,
   "metadata": {},
   "outputs": [
    {
     "name": "stdout",
     "output_type": "stream",
     "text": [
      "Input\n",
      "['2018-02-01' '2018-02-03' '2018-02-05' '2018-02-07' '2018-02-09'\n",
      " '2018-02-11' '2018-02-13' '2018-02-15' '2018-02-17' '2018-02-19'\n",
      " '2018-02-21' '2018-02-23']\n",
      "Solution from the website\n",
      "['2018-02-01' '2018-02-02' '2018-02-03' '2018-02-04' '2018-02-05'\n",
      " '2018-02-06' '2018-02-07' '2018-02-08' '2018-02-09' '2018-02-10'\n",
      " '2018-02-11' '2018-02-12' '2018-02-13' '2018-02-14' '2018-02-15'\n",
      " '2018-02-16' '2018-02-17' '2018-02-18' '2018-02-19' '2018-02-20'\n",
      " '2018-02-21' '2018-02-22' '2018-02-23']\n",
      "['2018-02-01' '2018-02-02' '2018-02-03' '2018-02-04' '2018-02-05'\n",
      " '2018-02-06' '2018-02-07' '2018-02-08' '2018-02-09' '2018-02-10'\n",
      " '2018-02-11' '2018-02-12' '2018-02-13' '2018-02-14' '2018-02-15'\n",
      " '2018-02-16' '2018-02-17' '2018-02-18' '2018-02-19' '2018-02-20'\n",
      " '2018-02-21' '2018-02-22' '2018-02-23']\n"
     ]
    }
   ],
   "source": [
    "# Q. Given an array of a non-continuous sequence of dates. Make it a continuous sequence of dates, by filling in the missing dates.\n",
    "\n",
    "# Input\n",
    "print(\"Input\")\n",
    "dates = np.arange(np.datetime64('2018-02-01'), np.datetime64('2018-02-25'), 2)\n",
    "print(dates)\n",
    "\n",
    "# Solution from the website\n",
    "print(\"Solution from the website\")\n",
    "# Solution ---------------\n",
    "filled_in = np.array([np.arange(date, (date+d)) for date, d in zip(dates, np.diff(dates))]).reshape(-1)\n",
    "\n",
    "# add the last day\n",
    "output = np.hstack([filled_in, dates[-1]])\n",
    "print(output)\n",
    "\n",
    "# For loop version -------\n",
    "out = []\n",
    "for date, d in zip(dates, np.diff(dates)):\n",
    "    out.append(np.arange(date, (date+d)))\n",
    "\n",
    "filled_in = np.array(out).reshape(-1)\n",
    "\n",
    "# add the last day\n",
    "output = np.hstack([filled_in, dates[-1]])\n",
    "print(output)\n"
   ]
  },
  {
   "cell_type": "code",
   "execution_count": 89,
   "metadata": {},
   "outputs": [
    {
     "name": "stdout",
     "output_type": "stream",
     "text": [
      "Solution\n"
     ]
    },
    {
     "data": {
      "text/plain": [
       "array([ 5,  8, 11, 14, 17, 20, 23, 26, 29, 32])"
      ]
     },
     "execution_count": 89,
     "metadata": {},
     "output_type": "execute_result"
    }
   ],
   "source": [
    "# Q. Create a numpy array of length 10, starting from 5 and has a step of 3 between consecutive numbers\n",
    "\n",
    "# Solution\n",
    "print(\"Solution\")\n",
    "\n",
    "np.arange(5, (5 + (10*3)), 3) # first argument is the starting point, second is the end, and the third the step.\n"
   ]
  },
  {
   "cell_type": "code",
   "execution_count": 91,
   "metadata": {},
   "outputs": [
    {
     "name": "stdout",
     "output_type": "stream",
     "text": [
      "Input\n",
      "Solution\n",
      "[6.333 6.    5.667 4.667 3.667 2.    3.667 3.   ]\n",
      "Solution from the website\n"
     ]
    },
    {
     "data": {
      "text/plain": [
       "array([6.333, 6.   , 5.667, 4.667, 3.667, 2.   , 3.667, 3.   ])"
      ]
     },
     "execution_count": 91,
     "metadata": {},
     "output_type": "execute_result"
    }
   ],
   "source": [
    "# Q. Compute the moving average of window size 3, for the given 1D array.\n",
    "\n",
    "# Input\n",
    "print(\"Input\")\n",
    "np.random.seed(100)\n",
    "a = np.random.randint(10, size=10)\n",
    "a\n",
    "\n",
    "# Solution\n",
    "print(\"Solution\")\n",
    "# using the solution from https://stackoverflow.com/questions/14313510/how-to-calculate-moving-average-using-numpy/54628145\n",
    "def moving_average(a, n=3) :\n",
    "    ret = np.cumsum(a, dtype=float)\n",
    "    ret[n:] = ret[n:] - ret[:-n]\n",
    "    return ret[n - 1:] / n\n",
    "\n",
    "print(moving_average(a))\n",
    "\n",
    "# Solution from the website\n",
    "print(\"Solution from the website\")\n",
    "np.convolve(a, np.ones(3)/3, mode='valid')\n"
   ]
  },
  {
   "cell_type": "code",
   "execution_count": 92,
   "metadata": {},
   "outputs": [
    {
     "name": "stdout",
     "output_type": "stream",
     "text": [
      "Input\n",
      "2018-02-25T22:10:10\n",
      "Solution from the website\n",
      "2018-02-25 22:10:10\n",
      "2018-02-25 22:10:10\n"
     ]
    }
   ],
   "source": [
    "# Q. Convert numpy's datetime64 object to datetime's datetime object\n",
    "\n",
    "# Input\n",
    "print(\"Input\")\n",
    "dt64 = np.datetime64('2018-02-25 22:10:10')\n",
    "print(dt64)\n",
    "\n",
    "# Solution from the website\n",
    "print(\"Solution from the website\")\n",
    "from datetime import datetime\n",
    "print(dt64.tolist())\n",
    "\n",
    "# or\n",
    "\n",
    "print(dt64.astype(datetime))\n"
   ]
  },
  {
   "cell_type": "code",
   "execution_count": 93,
   "metadata": {},
   "outputs": [
    {
     "name": "stdout",
     "output_type": "stream",
     "text": [
      "Input\n",
      "[1 2 1 1 3 4 3 1 1 2 1 1 2]\n",
      "Solution\n",
      "8\n",
      "Solution from the website\n",
      "8\n",
      "Solution using numpy\n",
      "8\n"
     ]
    }
   ],
   "source": [
    "# Q. Find the index of 5th repetition of number 1 in x.\n",
    "\n",
    "# Input\n",
    "print(\"Input\")\n",
    "x = np.array([1, 2, 1, 1, 3, 4, 3, 1, 1, 2, 1, 1, 2])\n",
    "print(x)\n",
    "\n",
    "# Solution\n",
    "print(\"Solution\")\n",
    "print(np.where(x == 1)[0][4]) # we do [0] since np.where returns a tupple, and then find the index of the 5 repetition\n",
    "\n",
    "# Solution from the website\n",
    "print(\"Solution from the website\")\n",
    "n = 5\n",
    "print([i for i, v in enumerate(x) if v == 1][n-1])\n",
    "\n",
    "print(\"Solution using numpy\")\n",
    "print(np.where(x == 1)[0][n-1]) # notice that n = 5, and 5 - 1 = 4, the index we did\n"
   ]
  },
  {
   "cell_type": "code",
   "execution_count": 94,
   "metadata": {},
   "outputs": [
    {
     "name": "stdout",
     "output_type": "stream",
     "text": [
      "Input\n",
      "[[3 3 3]\n",
      " [4 4 4]\n",
      " [5 5 5]]\n",
      "[1 2 3]\n",
      "Solution\n",
      "[[2 2 2]\n",
      " [2 2 2]\n",
      " [2 2 2]]\n"
     ]
    }
   ],
   "source": [
    "# Q. Subtract the 1d array b_1d from the 2d array a_2d, such that each item of b_1d subtracts from respective row of a_2d.\n",
    "\n",
    "# Input\n",
    "print(\"Input\")\n",
    "a_2d = np.array([[3,3,3],[4,4,4],[5,5,5]])\n",
    "b_1d = np.array([1,2,3])\n",
    "print(a_2d)\n",
    "print(b_1d)\n",
    "\n",
    "# Desired Output\n",
    "# > [[2 2 2]\n",
    "# >  [2 2 2]\n",
    "# >  [2 2 2]]\n",
    "\n",
    "# Solution\n",
    "print(\"Solution\")\n",
    "print(a_2d - b_1d[:, None])\n"
   ]
  },
  {
   "cell_type": "code",
   "execution_count": 95,
   "metadata": {},
   "outputs": [
    {
     "name": "stdout",
     "output_type": "stream",
     "text": [
      "Input\n",
      "[1 3 7 1 2 6 0 1]\n",
      "Solution using scipy\n",
      "[2 5]\n",
      "[7 6]\n",
      "Solution from the website using pure numpy\n",
      "[2 5]\n"
     ]
    }
   ],
   "source": [
    "# Q. Find all the peaks in a 1D numpy array a. Peaks are points surrounded by smaller values on both sides.\n",
    "\n",
    "# Input\n",
    "print(\"Input\")\n",
    "a = np.array([1, 3, 7, 1, 2, 6, 0, 1])\n",
    "print(a)\n",
    "\n",
    "# Desired Output\n",
    "# > array([2, 5])\n",
    "# where, 2 and 5 are the positions of peak values 7 and 6.\n",
    "\n",
    "# Solution\n",
    "print(\"Solution using scipy\")\n",
    "from scipy.signal import find_peaks\n",
    "\n",
    "ipeaks, _ = find_peaks(a)\n",
    "print(ipeaks)\n",
    "print(a[ipeaks])\n",
    "\n",
    "# Solution from the website\n",
    "print(\"Solution from the website using pure numpy\")\n",
    "doublediff = np.diff(np.sign(np.diff(a)))\n",
    "peak_locations = np.where(doublediff == -2)[0] + 1\n",
    "print(peak_locations)\n"
   ]
  },
  {
   "cell_type": "code",
   "execution_count": 96,
   "metadata": {},
   "outputs": [
    {
     "name": "stdout",
     "output_type": "stream",
     "text": [
      "Input\n",
      "Solution\n"
     ]
    },
    {
     "data": {
      "text/plain": [
       "6.708203932499369"
      ]
     },
     "execution_count": 96,
     "metadata": {},
     "output_type": "execute_result"
    }
   ],
   "source": [
    "# Q. Compute the euclidean distance between two arrays a and b.\n",
    "\n",
    "# Input\n",
    "print(\"Input\")\n",
    "a = np.array([1,2,3,4,5])\n",
    "b = np.array([4,5,6,7,8])\n",
    "a\n",
    "b\n",
    "\n",
    "# Solution\n",
    "print(\"Solution\")\n",
    "dist = np.linalg.norm(a-b)\n",
    "dist\n"
   ]
  },
  {
   "cell_type": "code",
   "execution_count": 97,
   "metadata": {},
   "outputs": [
    {
     "name": "stdout",
     "output_type": "stream",
     "text": [
      "Input\n",
      "Solution\n",
      "Solution from the website\n"
     ]
    },
    {
     "data": {
      "text/plain": [
       "array([1., 2., 3., 5., 6., 7.])"
      ]
     },
     "execution_count": 97,
     "metadata": {},
     "output_type": "execute_result"
    }
   ],
   "source": [
    "# Q. Drop all nan values from a 1D numpy array\n",
    "\n",
    "# Input\n",
    "print(\"Input\")\n",
    "a = np.array([1,2,3,np.nan,5,6,7,np.nan])\n",
    "a\n",
    "\n",
    "# Desired Output\n",
    "# array([ 1.,  2.,  3.,  5.,  6.,  7.])\n",
    "\n",
    "# Solution\n",
    "print(\"Solution\")\n",
    "a[[not np.isnan(x) for x in a]] # create a list with boolean if its np.isnan (not to reverse to True when it's not a nan) and index the original array\n",
    "\n",
    "# Solution from the website\n",
    "print(\"Solution from the website\")\n",
    "a[~np.isnan(a)]\n"
   ]
  },
  {
   "cell_type": "code",
   "execution_count": 98,
   "metadata": {},
   "outputs": [
    {
     "name": "stdout",
     "output_type": "stream",
     "text": [
      "Input\n",
      "Solution\n",
      "Solution from the website\n"
     ]
    },
    {
     "data": {
      "text/plain": [
       "[[b'Iris-setosa', 3.418],\n",
       " [b'Iris-versicolor', 2.7700000000000005],\n",
       " [b'Iris-virginica', 2.974]]"
      ]
     },
     "execution_count": 98,
     "metadata": {},
     "output_type": "execute_result"
    }
   ],
   "source": [
    "# Q. Find the mean of a numeric column grouped by a categorical column in a 2D numpy array\n",
    "\n",
    "# Input\n",
    "# Use the iris dataset provided\n",
    "print(\"Input\")\n",
    "# print_files()\n",
    "\n",
    "# Use this if you are working on your local machine\n",
    "# url = 'https://archive.ics.uci.edu/ml/machine-learning-databases/iris/iris.data'\n",
    "# iris = np.genfromtxt(url, delimiter=',', dtype='object')\n",
    "# names = ('sepallength', 'sepalwidth', 'petallength', 'petalwidth', 'species')\n",
    "\n",
    "# Desired Output\n",
    "# > [[b'Iris-setosa', 3.418],\n",
    "# >  [b'Iris-versicolor', 2.770],\n",
    "# >  [b'Iris-virginica', 2.974]]\n",
    "\n",
    "# Solution\n",
    "print(\"Solution\")\n",
    "iris = np.genfromtxt(\"Iris.csv\", delimiter=',', dtype='object', skip_header=1)\n",
    "sepallength = iris[:,2].astype(float)\n",
    "names = iris[:,5]\n",
    "[[name, np.mean(sepallength[np.where(names == name)])] for name in np.unique(names)]\n",
    "\n",
    "# Solution from the website\n",
    "print(\"Solution from the website\")\n",
    "numeric_column = iris[:, 2].astype('float')  # sepalwidth\n",
    "grouping_column = iris[:, 5]  # species\n",
    "\n",
    "# List comprehension version\n",
    "[[group_val, numeric_column[grouping_column==group_val].mean()] for group_val in np.unique(grouping_column)]\n",
    "\n",
    "# For Loop version\n",
    "output = []\n",
    "for group_val in np.unique(grouping_column):\n",
    "    output.append([group_val, numeric_column[grouping_column==group_val].mean()])\n",
    "\n",
    "output\n"
   ]
  },
  {
   "cell_type": "code",
   "execution_count": 99,
   "metadata": {},
   "outputs": [
    {
     "name": "stdout",
     "output_type": "stream",
     "text": [
      "Input\n",
      "Solution\n",
      "Ooops, I have not understood the problem. This solution marks False the elements that are duplicated and True the unique ones.\n",
      "Solution from the website\n"
     ]
    },
    {
     "data": {
      "text/plain": [
       "array([False,  True, False,  True, False, False,  True,  True,  True,\n",
       "        True])"
      ]
     },
     "execution_count": 99,
     "metadata": {},
     "output_type": "execute_result"
    }
   ],
   "source": [
    "# Q. Find the duplicate entries (2nd occurrence onwards) in the given numpy array and mark them as True. First time occurrences should be False.\n",
    "\n",
    "# Input\n",
    "print(\"Input\")\n",
    "np.random.seed(100)\n",
    "a = np.random.randint(0, 5, 10)\n",
    "a\n",
    "\n",
    "# Desired Output\n",
    "# > [False  True False  True False False  True  True  True  True]\n",
    "\n",
    "# Solution\n",
    "print(\"Solution\")\n",
    "print(\"Ooops, I have not understood the problem. This solution marks False the elements that are duplicated and True the unique ones.\")\n",
    "counts = np.unique(a, return_counts=True)\n",
    "np.array([True if counts[1][np.where(counts[0] == x)] > 1 else False for x in a])\n",
    "\n",
    "# Solution from the website\n",
    "print(\"Solution from the website\")\n",
    "out = np.full(a.shape[0], True) # Create an all True array\n",
    "unique_positions = np.unique(a, return_index=True)[1] # Find the index positions of unique elements\n",
    "out[unique_positions] = False # Mark those positions as False\n",
    "out\n"
   ]
  },
  {
   "cell_type": "code",
   "execution_count": 100,
   "metadata": {},
   "outputs": [
    {
     "name": "stdout",
     "output_type": "stream",
     "text": [
      "Input\n",
      "Solution\n",
      "Solution from the website\n"
     ]
    },
    {
     "data": {
      "text/plain": [
       "array([0.444, 0.125, 0.5  , 1.   , 0.111])"
      ]
     },
     "execution_count": 100,
     "metadata": {},
     "output_type": "execute_result"
    }
   ],
   "source": [
    "# Q. Compute the min-by-max for each row for given 2d numpy array.\n",
    "\n",
    "# Input\n",
    "print(\"Input\")\n",
    "np.random.seed(100)\n",
    "a = np.random.randint(1,10, [5,3])\n",
    "a\n",
    "\n",
    "# Solution\n",
    "print(\"Solution\")\n",
    "np.array([min(row)/max(row) for row in a])\n",
    "\n",
    "# Solution from the website\n",
    "print(\"Solution from the website\")\n",
    "np.apply_along_axis(lambda x: np.min(x)/np.max(x), arr=a, axis=1) # maybe a little more elegat solution\n"
   ]
  },
  {
   "cell_type": "code",
   "execution_count": 101,
   "metadata": {},
   "outputs": [
    {
     "name": "stdout",
     "output_type": "stream",
     "text": [
      "Input\n",
      "Solution\n",
      "Solution from the website\n"
     ]
    },
    {
     "data": {
      "text/plain": [
       "array([9, 8, 6, 3, 9])"
      ]
     },
     "execution_count": 101,
     "metadata": {},
     "output_type": "execute_result"
    }
   ],
   "source": [
    "# Q. Compute the maximum for each row in the given array.\n",
    "\n",
    "# Input\n",
    "print(\"Input\")\n",
    "np.random.seed(100)\n",
    "a = np.random.randint(1,10, [5,3])\n",
    "a\n",
    "\n",
    "# Solution\n",
    "print(\"Solution\")\n",
    "np.array([max(row) for row in a])\n",
    "\n",
    "# Solution from the website\n",
    "print(\"Solution from the website\")\n",
    "\n",
    "# Solution 1\n",
    "np.amax(a, axis=1)\n",
    "\n",
    "# Solution 2\n",
    "np.apply_along_axis(np.max, arr=a, axis=1)\n"
   ]
  },
  {
   "cell_type": "code",
   "execution_count": 102,
   "metadata": {},
   "outputs": [
    {
     "name": "stdout",
     "output_type": "stream",
     "text": [
      "Input\n",
      "Solution\n",
      "Solution from the website\n",
      "[[4 2 6 0 8]\n",
      " [7 9 3 5 1]]\n"
     ]
    },
    {
     "data": {
      "text/plain": [
       "'\\nDifference between flatten and ravel:\\n\\n- flatten is a method of an ndarray object and hence can only be called for true numpy arrays.\\n\\n- ravel is a library-level function and hence can be called on any object that can successfully be parsed.\\n'"
      ]
     },
     "execution_count": 102,
     "metadata": {},
     "output_type": "execute_result"
    }
   ],
   "source": [
    "# Q. Create a rank array of the same shape as a given numeric array a.\n",
    "\n",
    "# Input\n",
    "print(\"Input\")\n",
    "np.random.seed(10)\n",
    "a = np.random.randint(20, size=[2,5])\n",
    "a\n",
    "\n",
    "# Desired Output\n",
    "# > [[4 2 6 0 8]\n",
    "# >  [7 9 3 5 1]]\n",
    "\n",
    "# Solution\n",
    "print(\"Solution\")\n",
    "a.flatten().argsort().argsort().reshape(2, -1) # flatten first the array, then use the same tecnique as before and then reshape the array\n",
    "\n",
    "# Solution from the website\n",
    "print(\"Solution from the website\")\n",
    "print(a.ravel().argsort().argsort().reshape(a.shape))\n",
    "\n",
    "'''\n",
    "Difference between flatten and ravel:\n",
    "\n",
    "- flatten is a method of an ndarray object and hence can only be called for true numpy arrays.\n",
    "\n",
    "- ravel is a library-level function and hence can be called on any object that can successfully be parsed.\n",
    "'''\n"
   ]
  },
  {
   "cell_type": "code",
   "execution_count": 103,
   "metadata": {},
   "outputs": [
    {
     "name": "stdout",
     "output_type": "stream",
     "text": [
      "Input\n",
      "Solution\n",
      "Order of the array: in the index 3 of the array (a) we have the value 0, which is the smallest value - \n",
      "- at the index 9, we have the value 0 which is the second largest value etc etc etc\n",
      "Second argsort: the value 9 in the original array is the 4th smallest value, the value 4 in the original array is the second smallest value etc etc etc\n"
     ]
    },
    {
     "data": {
      "text/plain": [
       "<function ndarray.argsort>"
      ]
     },
     "execution_count": 103,
     "metadata": {},
     "output_type": "execute_result"
    }
   ],
   "source": [
    "# Q. Create the ranks for the given numeric array a.\n",
    "\n",
    "# Input\n",
    "print(\"Input\")\n",
    "np.random.seed(10)\n",
    "a = np.random.randint(20, size=10)\n",
    "a\n",
    "\n",
    "# Desired Output\n",
    "# [4 2 6 0 8 7 9 3 5 1]\n",
    "\n",
    "# Solution\n",
    "print(\"Solution\")\n",
    "a.argsort().argsort() # use argosrt twice: first to find the order of the array and then the rank\n",
    "print(\"Order of the array: in the index 3 of the array (a) we have the value 0, which is the smallest value - \")\n",
    "print(\"- at the index 9, we have the value 0 which is the second largest value etc etc etc\")\n",
    "a.argsort()\n",
    "print(\"Second argsort: the value 9 in the original array is the 4th smallest value, the value 4 in the original array is the second smallest value etc etc etc\")\n",
    "a.argsort().argsort\n",
    "\n",
    "# reference: https://stackoverflow.com/questions/5284646/rank-items-in-an-array-using-python-numpy-without-sorting-array-twice/\n"
   ]
  },
  {
   "cell_type": "code",
   "execution_count": 104,
   "metadata": {},
   "outputs": [
    {
     "name": "stdout",
     "output_type": "stream",
     "text": [
      "Input\n",
      "Solution\n",
      "Solution from the website\n",
      "Solution usig numpy\n",
      "Solution using for loops\n"
     ]
    },
    {
     "data": {
      "text/plain": [
       "[0, 0, 0, 0, 0, 1, 1, 1, 1, 1, 1, 1, 2, 2, 2, 2, 2, 2, 2, 2]"
      ]
     },
     "execution_count": 104,
     "metadata": {},
     "output_type": "execute_result"
    }
   ],
   "source": [
    "# Q. Create group ids based on a given categorical variable. Use the following sample from iris species as input\n",
    "\n",
    "# Input\n",
    "# Use the iris dataset provided\n",
    "print(\"Input\")\n",
    "# print_files()\n",
    "\n",
    "# Use this if you are working on your local machine\n",
    "# species = np.genfromtxt(url, delimiter=',', dtype='str', usecols=4)\n",
    "# species_small = np.sort(np.random.choice(species, size=20))\n",
    "# species_small\n",
    "# > array(['Iris-setosa', 'Iris-setosa', 'Iris-setosa', 'Iris-setosa',\n",
    "# >        'Iris-setosa', 'Iris-setosa', 'Iris-versicolor', 'Iris-versicolor',\n",
    "# >        'Iris-versicolor', 'Iris-versicolor', 'Iris-versicolor',\n",
    "# >        'Iris-versicolor', 'Iris-virginica', 'Iris-virginica',\n",
    "# >        'Iris-virginica', 'Iris-virginica', 'Iris-virginica',\n",
    "# >        'Iris-virginica', 'Iris-virginica', 'Iris-virginica'],\n",
    "# >       dtype='<U15')\n",
    "\n",
    "# Desired Output\n",
    "# > [0, 0, 0, 0, 0, 1, 1, 1, 1, 1, 1, 1, 1, 1, 2, 2, 2, 2, 2, 2]\n",
    "\n",
    "# Solution\n",
    "print(\"Solution\")\n",
    "species = np.genfromtxt(\"Iris.csv\", delimiter=',', dtype='str', usecols=5, skip_header=1)\n",
    "species_small = np.sort(np.random.choice(species, size=20))\n",
    "species_small\n",
    "\n",
    "d = dict((k, i) for i, k in enumerate(np.unique(species_small))) # create a mapping for every specie and store it in a dictionary\n",
    "np.array([np.vectorize(d.get)(sp) for sp in species_small]) # use vectorize and dictionary .get method to map all the species\n",
    "\n",
    "# Solution from the website\n",
    "print(\"Solution from the website\")\n",
    "print(\"Solution usig numpy\")\n",
    "output = [np.argwhere(np.unique(species_small) == s).tolist()[0][0] for val in np.unique(species_small) for s in species_small[species_small==val]]\n",
    "output\n",
    "\n",
    "# Solution: For Loop version\n",
    "print(\"Solution using for loops\")\n",
    "output = []\n",
    "uniqs = np.unique(species_small)\n",
    "\n",
    "for val in uniqs:  # uniq values in group\n",
    "    for s in species_small[species_small==val]:  # each element in group\n",
    "        groupid = np.argwhere(uniqs == s).tolist()[0][0]  # groupid\n",
    "        output.append(groupid)\n",
    "output\n"
   ]
  },
  {
   "cell_type": "code",
   "execution_count": null,
   "metadata": {},
   "outputs": [],
   "source": []
  }
 ],
 "metadata": {
  "kernelspec": {
   "display_name": "Python 3",
   "language": "python",
   "name": "python3"
  },
  "language_info": {
   "codemirror_mode": {
    "name": "ipython",
    "version": 3
   },
   "file_extension": ".py",
   "mimetype": "text/x-python",
   "name": "python",
   "nbconvert_exporter": "python",
   "pygments_lexer": "ipython3",
   "version": "3.8.2"
  }
 },
 "nbformat": 4,
 "nbformat_minor": 4
}
